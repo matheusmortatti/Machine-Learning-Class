{
 "cells": [
  {
   "cell_type": "code",
   "execution_count": 17,
   "metadata": {},
   "outputs": [
    {
     "name": "stdout",
     "output_type": "stream",
     "text": [
      "Automatically created module for IPython interactive environment\n"
     ]
    }
   ],
   "source": [
    "print(__doc__)\n",
    "\n",
    "# Code source adapted from: Jaques Grobler\n",
    "# License: BSD 3 clause\n",
    "\n",
    "import random\n",
    "import matplotlib.pyplot as plt\n",
    "import numpy as np\n",
    "import pandas\n",
    "import os\n",
    "import csv\n",
    "import time\n",
    "from sklearn.cluster import KMeans\n",
    "from sklearn.metrics import silhouette_score"
   ]
  },
  {
   "cell_type": "code",
   "execution_count": 18,
   "metadata": {},
   "outputs": [],
   "source": [
    "# Read and treat training dataset\n",
    "dataset = pandas.read_csv('health-dataset/bags.csv').values\n",
    "dataset = (dataset-dataset.max()/2) / dataset.max()"
   ]
  },
  {
   "cell_type": "code",
   "execution_count": null,
   "metadata": {},
   "outputs": [
    {
     "name": "stdout",
     "output_type": "stream",
     "text": [
      "Training KMeans for 2 clusters\n",
      "Silhouette Score: 0.008992167497813144\n",
      "Training KMeans for 3 clusters\n",
      "Silhouette Score: 0.010562025094871749\n",
      "Training KMeans for 4 clusters\n",
      "Silhouette Score: 0.012611770227371939\n",
      "Training KMeans for 5 clusters\n",
      "Silhouette Score: 0.01489403708543666\n",
      "Training KMeans for 6 clusters\n",
      "Silhouette Score: 0.01487583514869673\n",
      "Training KMeans for 7 clusters\n",
      "Silhouette Score: 0.015418934225594495\n",
      "Training KMeans for 8 clusters\n",
      "Silhouette Score: 0.018791898685653344\n",
      "Training KMeans for 9 clusters\n",
      "Silhouette Score: 0.018511702077966898\n",
      "Training KMeans for 10 clusters\n",
      "Silhouette Score: 0.022736644590489914\n",
      "Training KMeans for 11 clusters\n",
      "Silhouette Score: 0.024524935931031673\n",
      "Training KMeans for 12 clusters\n",
      "Silhouette Score: 0.024896392974768113\n",
      "Training KMeans for 13 clusters\n",
      "Silhouette Score: 0.02418886956118355\n",
      "Training KMeans for 14 clusters\n",
      "Silhouette Score: 0.027321084370477533\n",
      "Training KMeans for 15 clusters\n",
      "Silhouette Score: 0.026407542525398203\n",
      "Training KMeans for 16 clusters\n",
      "Silhouette Score: 0.027265780166539452\n",
      "Training KMeans for 17 clusters\n",
      "Silhouette Score: 0.027586986543776264\n",
      "Training KMeans for 18 clusters\n",
      "Silhouette Score: 0.02771278131820722\n",
      "Training KMeans for 19 clusters\n",
      "Silhouette Score: 0.028997274368403273\n",
      "Training KMeans for 20 clusters\n",
      "Silhouette Score: 0.028395872820307064\n",
      "Training KMeans for 21 clusters\n",
      "Silhouette Score: 0.029837347293884067\n",
      "Training KMeans for 22 clusters\n",
      "Silhouette Score: 0.028826007535406702\n",
      "Training KMeans for 23 clusters\n",
      "Silhouette Score: 0.033473173529280593\n",
      "Training KMeans for 24 clusters\n",
      "Silhouette Score: 0.03190516424902248\n",
      "Training KMeans for 25 clusters\n",
      "Silhouette Score: 0.03244258699301602\n",
      "Training KMeans for 26 clusters\n",
      "Silhouette Score: 0.03394383877398769\n",
      "Training KMeans for 27 clusters\n",
      "Silhouette Score: 0.033608793329798554\n",
      "Training KMeans for 28 clusters\n",
      "Silhouette Score: 0.03396783434168218\n",
      "Training KMeans for 29 clusters\n",
      "Silhouette Score: 0.03613966536061105\n",
      "Training KMeans for 30 clusters\n",
      "Silhouette Score: 0.03579484866685377\n",
      "Training KMeans for 31 clusters\n",
      "Silhouette Score: 0.03747809451136916\n",
      "Training KMeans for 32 clusters\n",
      "Silhouette Score: 0.03793131770162845\n",
      "Training KMeans for 33 clusters\n",
      "Silhouette Score: 0.03832082629664008\n",
      "Training KMeans for 34 clusters\n"
     ]
    }
   ],
   "source": [
    "kmeans_costs = []\n",
    "kmeans_clusters = []\n",
    "for n in range(2,51):\n",
    "    print(\"Training KMeans for \" + str(n) + \" clusters\")\n",
    "    kmeans = KMeans(n_clusters=n)\n",
    "    kmeans.fit(dataset)\n",
    "    \n",
    "    labels = kmeans.predict(dataset)\n",
    "    print(\"Silhouette Score: \" + str(silhouette_score(dataset,labels)))\n",
    "    \n",
    "    kmeans_costs.append(kmeans.inertia_)\n",
    "    kmeans_clusters.append(n)"
   ]
  },
  {
   "cell_type": "code",
   "execution_count": 15,
   "metadata": {},
   "outputs": [
    {
     "name": "stdout",
     "output_type": "stream",
     "text": [
      "-0.01245684157126199\n"
     ]
    },
    {
     "data": {
      "image/png": "[encoded data removed]",
      "text/plain": [
       "<Figure size 432x288 with 1 Axes>"
      ]
     },
     "metadata": {
      "needs_background": "light"
     },
     "output_type": "display_data"
    }
   ],
   "source": [
    "def graph_add_scatter(x, y, c='black'):\n",
    "    plt.scatter(x, y, color= c)\n",
    "\n",
    "def graph_add_line(x, y, c='black'):\n",
    "    plt.plot(x, y, color=c, linewidth=3)\n",
    "\n",
    "def plot(name=\"\"):\n",
    "    plt.xticks()\n",
    "    plt.yticks()\n",
    "    \n",
    "    if name!=\"\":\n",
    "        plt.savefig(name)\n",
    "    plt.show()\n",
    "    plt.close()\n",
    "\n",
    "labels = kmeans.predict(dataset)\n",
    "print(silhouette_score(dataset,labels))\n",
    "graph_add_line(kmeans_clusters, kmeans_costs)\n",
    "graph_add_scatter(kmeans_clusters, kmeans_costs,c='blue')\n",
    "plot()"
   ]
  },
  {
   "cell_type": "code",
   "execution_count": null,
   "metadata": {},
   "outputs": [],
   "source": []
  }
 ],
 "metadata": {
  "kernelspec": {
   "display_name": "Python 2",
   "language": "python",
   "name": "python2"
  },
  "language_info": {
   "codemirror_mode": {
    "name": "ipython",
    "version": 2
   },
   "file_extension": ".py",
   "mimetype": "text/x-python",
   "name": "python",
   "nbconvert_exporter": "python",
   "pygments_lexer": "ipython2",
   "version": "2.7.12"
  }
 },
 "nbformat": 4,
 "nbformat_minor": 2
}
