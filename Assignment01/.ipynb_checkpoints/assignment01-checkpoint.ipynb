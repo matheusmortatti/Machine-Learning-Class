{
 "cells": [
  {
   "cell_type": "code",
   "execution_count": 71,
   "metadata": {},
   "outputs": [
    {
     "name": "stdout",
     "output_type": "stream",
     "text": [
      "Automatically created module for IPython interactive environment\n"
     ]
    }
   ],
   "source": [
    "print(__doc__)\n",
    "\n",
    "# Code source adapted from: Jaques Grobler\n",
    "# License: BSD 3 clause\n",
    "\n",
    "import matplotlib.pyplot as plt\n",
    "import numpy as np\n",
    "import pandas as pd\n",
    "from sklearn import datasets, linear_model\n",
    "from sklearn.metrics import mean_squared_error\n",
    "import pandas as pd\n",
    "import os\n",
    "import csv\n",
    "import pprint\n",
    "\n",
    "pp = pprint.PrettyPrinter(indent=4)"
   ]
  },
  {
   "cell_type": "code",
   "execution_count": 72,
   "metadata": {},
   "outputs": [],
   "source": [
    "def treat_dataset(dataset):\n",
    "    vcut = {'Fair': 0, 'Good': 1, 'Very Good': 2, 'Premium': 3, 'Ideal': 4}\n",
    "    vcolor = {'D': 6, 'E': 5, 'F': 4, 'G': 3, 'H': 2, 'I': 1, 'J': 0}\n",
    "    vclarity = {'I1': 0, 'SI2': 1, 'SI1': 2, 'VS2': 3, 'VS1': 4, 'VVS2': 5, 'VVS1': 6, 'IF': 7}\n",
    "    \n",
    "    target = []\n",
    "    for row in dataset:\n",
    "        # Modify string to number values\n",
    "        row[\"cut\"] = vcut[row[\"cut\"]]\n",
    "        row[\"color\"] = vcolor[row[\"color\"]]\n",
    "        row[\"clarity\"] = vclarity[row[\"clarity\"]]\n",
    "        \n",
    "        # Normalize values\n",
    "        row[\"carat\"] = (float(row[\"carat\"]) - (0.2+5.01)/2)/(0.2+5.01)\n",
    "        row[\"cut\"] = (float(row[\"cut\"]) - (4/2))/4\n",
    "        row[\"color\"] = (float(row[\"color\"]) - (6/2))/6\n",
    "        row[\"clarity\"] = (float(row[\"clarity\"]) - (7/2))/7\n",
    "        row[\"x\"] = (float(row[\"x\"]) - (10.74/2))/10.74\n",
    "        row[\"y\"] = (float(row[\"y\"]) - (58.9/2))/58.9\n",
    "        row[\"z\"] = (float(row[\"z\"]) - (31.8/2))/31.8\n",
    "        row[\"depth\"] = (float(row[\"depth\"]) - (43+79)/2)/(43+79)\n",
    "        row[\"table\"] = (float(row[\"table\"]) - (43+95)/2)/(43+95)\n",
    "        \n",
    "        # Add X0 for ease of use\n",
    "        row[\"x0\"] = 1\n",
    "        \n",
    "        # Remove target element and insert into it's own list\n",
    "        target.append(row[\"price\"])\n",
    "        del row[\"price\"]\n",
    "    return target"
   ]
  },
  {
   "cell_type": "code",
   "execution_count": 73,
   "metadata": {},
   "outputs": [],
   "source": [
    "# Read and treat training dataset\n",
    "dataset_train = []\n",
    "reader = csv.DictReader(open('diamonds-train.csv', 'r'))\n",
    "for line in reader:\n",
    "     dataset_train.append(line)\n",
    "\n",
    "target_train = treat_dataset(dataset_train)\n",
    "\n",
    "# Read and treat test dataset\n",
    "dataset_test = []\n",
    "reader = csv.DictReader(open('diamonds-test.csv', 'r'))\n",
    "for line in reader:\n",
    "     dataset_test.append(line)\n",
    "\n",
    "target_test = treat_dataset(dataset_test)\n",
    "\n",
    "# Auxilary vector for name to number mapping\n",
    "ds_index = [\"x0\", \"carat\", \"clarity\", \"color\", \"cut\", \"depth\", \"table\", \"x\", \"y\", \"z\", \"price\"]"
   ]
  },
  {
   "cell_type": "code",
   "execution_count": 74,
   "metadata": {},
   "outputs": [],
   "source": [
    "def calculate_cost_function(thetas, data, target):\n",
    "    m = len(data)\n",
    "    s = 0\n",
    "    for index in range(len(data)):\n",
    "        h = 0\n",
    "        for k,v in data[index].items():\n",
    "            h += thetas[k] * data[index][k]\n",
    "        s += (h - float(target[index]))*(h - float(target[index]))\n",
    "    return (1/(2*m)) * s\n",
    "\n",
    "def init_thetas(data):\n",
    "    if len(data) == 0:\n",
    "        return {}\n",
    "    thetas = {}\n",
    "    for k,v in data[0].items():\n",
    "        thetas[k] = 0\n",
    "    return thetas\n",
    "\n",
    "def plot(x, y, c='black'):\n",
    "    plt.scatter(x, y, color= c)\n",
    "\n",
    "    plt.xticks()\n",
    "    plt.yticks()\n",
    "\n",
    "    plt.show()"
   ]
  },
  {
   "cell_type": "code",
   "execution_count": 146,
   "metadata": {},
   "outputs": [
    {
     "name": "stdout",
     "output_type": "stream",
     "text": [
      "Stopped by convergence\n",
      "\n"
     ]
    }
   ],
   "source": [
    "# STOCHASTIC ALGORITHM\n",
    "\n",
    "# Parameters\n",
    "# Alpha\n",
    "learningRate = 1e-04\n",
    "# Number of cases in training\n",
    "m = len(dataset_train)\n",
    "# Thetas Vector\n",
    "thetas = init_thetas(dataset_train)\n",
    "# Number of iterations\n",
    "max_iterations = 1000000\n",
    "iterations = 0\n",
    "# After j_step iterations, compute cost function\n",
    "j_step = 1000\n",
    "costs = []\n",
    "itr_numbers = []\n",
    "\n",
    "# Stop Conditions\n",
    "stopCondition = 1e-07\n",
    "done = False\n",
    "\n",
    "# print(calculate_cost_function(thetas, train_df, target_train_df))\n",
    "\n",
    "# In the Stochastic mode, the error is calculated using only one row of the data set\n",
    "# We'll use them one by one \n",
    "row = 0\n",
    "while(iterations < max_iterations and not done):\n",
    "    \n",
    "    new_thetas = thetas.copy() \n",
    "        \n",
    "    # For each theta we do the following\n",
    "    for k1,v1 in thetas.items():\n",
    "        h = 0\n",
    "        \n",
    "        for k2,v2 in thetas.items():\n",
    "            h += v2 * dataset_train[row][k2]\n",
    "\n",
    "        # Updating the new thetas vector values\n",
    "        new_thetas[k1] = v1 - (learningRate * (h - float(target_train[row])) * dataset_train[row][k1])\n",
    "        \n",
    "    # Updating row that will be used to calculate the error\n",
    "    row = (row + 1) % m\n",
    "    \n",
    "    if iterations % j_step == 0:\n",
    "        costs.append(calculate_cost_function(thetas, dataset_train, target_train))\n",
    "        itr_numbers.append(iterations)\n",
    "        \n",
    "    # If the change in value for new thetas is too small, we can stop iterating\n",
    "    done = True\n",
    "    for k,v in thetas.items():\n",
    "        done = abs(thetas[k] - new_thetas[k]) < stopCondition and done    \n",
    "        \n",
    "     # Atualization of the values of the thetas\n",
    "    thetas = new_thetas.copy()\n",
    "    iterations = iterations + 1\n",
    "    \n",
    "if iterations >= max_iterations:\n",
    "    print(\"Stopped by number of iterations\\n\")\n",
    "if done:\n",
    "    print(\"Stopped by convergence\\n\")"
   ]
  },
  {
   "cell_type": "code",
   "execution_count": 147,
   "metadata": {},
   "outputs": [
    {
     "name": "stdout",
     "output_type": "stream",
     "text": [
      "Coefficients: \n",
      "\n",
      "{   'carat': 9352.705180320141,\n",
      "    'clarity': -36.87988940791,\n",
      "    'color': -606.2900237974865,\n",
      "    'cut': 329.2060484968358,\n",
      "    'depth': 2.7980527478802073,\n",
      "    'table': -309.9689228525515,\n",
      "    'x': 12698.583965636291,\n",
      "    'x0': 6521.382358467122,\n",
      "    'y': -351.79479271347003,\n",
      "    'z': 45.22047696890871}\n"
     ]
    },
    {
     "data": {
      "image/png": "[encoded data removed]",
      "text/plain": [
       "<Figure size 432x288 with 1 Axes>"
      ]
     },
     "metadata": {},
     "output_type": "display_data"
    }
   ],
   "source": [
    "print(\"Coefficients: \\n\")\n",
    "pp.pprint(thetas)\n",
    "\n",
    "plot(itr_numbers, costs)"
   ]
  },
  {
   "cell_type": "code",
   "execution_count": 148,
   "metadata": {},
   "outputs": [
    {
     "name": "stdout",
     "output_type": "stream",
     "text": [
      "Stopped by number of iterations\n",
      "\n"
     ]
    }
   ],
   "source": [
    "# BATCH GRADIENT ALGORITHM\n",
    "\n",
    "# Parameters\n",
    "# Alpha\n",
    "learningRate = 1e-01\n",
    "# Number of cases in training\n",
    "m = len(dataset_train)\n",
    "# Thetas Vector\n",
    "thetas = init_thetas(dataset_train)\n",
    "# Number of iterations\n",
    "max_iterations = 100\n",
    "iterations = 0\n",
    "# After j_step iterations, compute cost function\n",
    "j_step = 10\n",
    "costs = []\n",
    "itr_numbers = []\n",
    "# Stop Conditions\n",
    "stopCondition = 1e-03\n",
    "done = False\n",
    "\n",
    "\n",
    "while(iterations < max_iterations and not done):\n",
    "    \n",
    "    new_thetas = thetas.copy()\n",
    "    \n",
    "    # For each theta we do the following\n",
    "    for key,item in thetas.items():\n",
    "        \n",
    "        s = 0\n",
    "        # We add every row of the dataset to the error calculation (Batch)\n",
    "        for i in range(len(dataset_train)):\n",
    "            \n",
    "            h = 0\n",
    "            # Calculating the value for theta\n",
    "            for kt,it in thetas.items():\n",
    "                h += thetas[kt] * dataset_train[i][kt]\n",
    "                \n",
    "            s += (h - float(target_train[i])) * dataset_train[i][key]\n",
    "        \n",
    "        # Updating the new thetas vector values\n",
    "        new_thetas[key] = thetas[key] - ((learningRate / m) * s)\n",
    "    \n",
    "    if iterations % j_step == 0:\n",
    "        costs.append(calculate_cost_function(thetas, dataset_train, target_train))\n",
    "        itr_numbers.append(iterations)\n",
    "    \n",
    "    # If the change in value for new thetas is too small, we can stop iterating\n",
    "    done = True\n",
    "    for k,v in thetas.items():\n",
    "        done = abs(thetas[k] - new_thetas[k]) < stopCondition and done\n",
    "\n",
    "    # Atualization of the values of the thetas\n",
    "    thetas = new_thetas.copy()\n",
    "    iterations = iterations + 1\n",
    "    \n",
    "if iterations >= max_iterations:\n",
    "    print(\"Stopped by number of iterations\\n\")\n",
    "if done:\n",
    "    print(\"Stopped by convergence\\n\")"
   ]
  },
  {
   "cell_type": "code",
   "execution_count": 149,
   "metadata": {},
   "outputs": [
    {
     "name": "stdout",
     "output_type": "stream",
     "text": [
      "Coefficients: \n",
      "\n",
      "{   'carat': 1804.481839153856,\n",
      "    'clarity': -1077.638778690705,\n",
      "    'color': -1079.4141093234375,\n",
      "    'cut': 173.8323980803158,\n",
      "    'depth': 16.26184054762335,\n",
      "    'table': -229.43095250739074,\n",
      "    'x': 3497.926169501397,\n",
      "    'x0': 3661.2216381280023,\n",
      "    'y': -860.2516313715028,\n",
      "    'z': -725.1658930590603}\n"
     ]
    },
    {
     "data": {
      "image/png": "[encoded data removed]",
      "text/plain": [
       "<Figure size 432x288 with 1 Axes>"
      ]
     },
     "metadata": {},
     "output_type": "display_data"
    }
   ],
   "source": [
    "print(\"Coefficients: \\n\")\n",
    "pp.pprint(thetas)\n",
    "\n",
    "plot(itr_numbers, costs)"
   ]
  },
  {
   "cell_type": "code",
   "execution_count": 150,
   "metadata": {},
   "outputs": [
    {
     "name": "stdout",
     "output_type": "stream",
     "text": [
      "Stopped by number of iterations\n",
      "\n"
     ]
    }
   ],
   "source": [
    "# MINI BATCH GRADIENT ALGORITHM\n",
    "\n",
    "# Parameters\n",
    "# Alpha\n",
    "learningRate = 1e-03\n",
    "# Number of cases in training\n",
    "m = len(dataset_train)\n",
    "# Thetas Vector\n",
    "thetas = init_thetas(dataset_train)\n",
    "# Number of iterations\n",
    "max_iterations = 100000\n",
    "iterations = 0\n",
    "batch_size = 10\n",
    "\n",
    "# Stop Conditions\n",
    "stopCondition = 1e-03\n",
    "done = False\n",
    "\n",
    "# After j_step iterations, compute cost function\n",
    "j_step = 1000\n",
    "costs = []\n",
    "itr_numbers = []\n",
    "\n",
    "\n",
    "while(iterations < max_iterations and not done):\n",
    "    \n",
    "    # Step through the dataset in chuncks\n",
    "    for row in range(0, len(dataset_train), batch_size):\n",
    "        new_thetas = thetas.copy()\n",
    "        \n",
    "        # For each theta we do the following\n",
    "        for k,val in thetas.items():\n",
    "\n",
    "            s = 0\n",
    "            # We add every row of the dataset to the error calculation (Batch)\n",
    "            for offset in range(batch_size):\n",
    "                if row + offset >= m:\n",
    "                    break\n",
    "                \n",
    "                h = 0\n",
    "                # Calculating the value for theta\n",
    "                for i,v in thetas.items():\n",
    "                    h += thetas[i] * dataset_train[row+offset][i]\n",
    "\n",
    "                s += (h - float(target_train[row+offset])) * dataset_train[row+offset][k]\n",
    "\n",
    "            # Updating the new thetas vector values\n",
    "            new_thetas[k] = thetas[k] - ((learningRate / batch_size) * s)\n",
    "        \n",
    "        if iterations % j_step == 0:\n",
    "            costs.append(calculate_cost_function(thetas, dataset_train, target_train))\n",
    "            itr_numbers.append(iterations)\n",
    "        \n",
    "        iterations = iterations + 1\n",
    "        if iterations >= max_iterations:\n",
    "            break\n",
    "            \n",
    "        # If the change in value for new thetas is too small, we can stop iterating\n",
    "        done = True\n",
    "        for k,v in thetas.items():\n",
    "            done = abs(thetas[k] - new_thetas[k]) < stopCondition and done\n",
    "        if done:\n",
    "            break\n",
    "\n",
    "        # Atualization of the values of the thetas\n",
    "        thetas = new_thetas.copy()\n",
    "    \n",
    "if iterations >= max_iterations:\n",
    "    print(\"Stopped by number of iterations\\n\")\n",
    "if done:\n",
    "    print(\"Stopped by convergence\\n\")"
   ]
  },
  {
   "cell_type": "code",
   "execution_count": 151,
   "metadata": {},
   "outputs": [
    {
     "name": "stdout",
     "output_type": "stream",
     "text": [
      "Coefficients: \n",
      "\n",
      "{   'carat': 13534.07583437853,\n",
      "    'clarity': 1624.1025650352801,\n",
      "    'color': 418.9193606712353,\n",
      "    'cut': 441.67500339168475,\n",
      "    'depth': 12.094002684467624,\n",
      "    'table': -377.8970371043327,\n",
      "    'x': 17429.218158906184,\n",
      "    'x0': 8065.087500118445,\n",
      "    'y': -115.75862554040087,\n",
      "    'z': 417.2763627337401}\n"
     ]
    },
    {
     "data": {
      "image/png": "[encoded data removed]",
      "text/plain": [
       "<Figure size 432x288 with 1 Axes>"
      ]
     },
     "metadata": {},
     "output_type": "display_data"
    }
   ],
   "source": [
    "print(\"Coefficients: \\n\")\n",
    "pp.pprint(thetas)\n",
    "\n",
    "plot(itr_numbers, costs)"
   ]
  },
  {
   "cell_type": "code",
   "execution_count": 152,
   "metadata": {},
   "outputs": [
    {
     "name": "stdout",
     "output_type": "stream",
     "text": [
      "6145\n",
      "6976.413230140389\n"
     ]
    }
   ],
   "source": [
    "print(target_test[2])\n",
    "\n",
    "teste = 0\n",
    "for k,v in thetas.items():\n",
    "    teste += thetas[k] * dataset_test[2][k]\n",
    "\n",
    "print(teste)\n"
   ]
  },
  {
   "cell_type": "code",
   "execution_count": null,
   "metadata": {},
   "outputs": [],
   "source": []
  },
  {
   "cell_type": "code",
   "execution_count": null,
   "metadata": {},
   "outputs": [],
   "source": []
  }
 ],
 "metadata": {
  "kernelspec": {
   "display_name": "Python 3",
   "language": "python",
   "name": "python3"
  },
  "language_info": {
   "codemirror_mode": {
    "name": "ipython",
    "version": 3
   },
   "file_extension": ".py",
   "mimetype": "text/x-python",
   "name": "python",
   "nbconvert_exporter": "python",
   "pygments_lexer": "ipython3",
   "version": "3.5.2"
  }
 },
 "nbformat": 4,
 "nbformat_minor": 2
}
