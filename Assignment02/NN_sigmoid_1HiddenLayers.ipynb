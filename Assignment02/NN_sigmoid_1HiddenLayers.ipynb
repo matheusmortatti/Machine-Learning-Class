{
 "cells": [
  {
   "cell_type": "code",
   "execution_count": 9,
   "metadata": {},
   "outputs": [
    {
     "name": "stdout",
     "output_type": "stream",
     "text": [
      "Automatically created module for IPython interactive environment\n"
     ]
    }
   ],
   "source": [
    "print(__doc__)\n",
    "\n",
    "# Code source adapted from: Jaques Grobler\n",
    "# License: BSD 3 clause\n",
    "\n",
    "import random\n",
    "import matplotlib.pyplot as plt\n",
    "import numpy as np\n",
    "import pandas\n",
    "import os\n",
    "import csv\n",
    "import pprint\n",
    "import time\n",
    "import itertools\n",
    "import NeuralNetworkModel as NNM\n",
    "import LogisticRegressionModel as LRM\n",
    "import SoftmaxRegressionModel as SRM\n",
    "from sklearn.metrics import confusion_matrix\n",
    "from sklearn.metrics import classification_report\n",
    "\n",
    "pp = pprint.PrettyPrinter(indent=4)"
   ]
  },
  {
   "cell_type": "code",
   "execution_count": 5,
   "metadata": {},
   "outputs": [],
   "source": [
    "def plot_confusion_matrix(cm, classes,\n",
    "                          normalize=False,\n",
    "                          title='Confusion matrix',\n",
    "                          cmap=plt.cm.Blues):\n",
    "    \"\"\"\n",
    "    This function prints and plots the confusion matrix.\n",
    "    Normalization can be applied by setting `normalize=True`.\n",
    "    \"\"\"\n",
    "    if normalize:\n",
    "        cm = cm.astype('float') / cm.sum(axis=1)[:, np.newaxis]\n",
    "        print(\"Normalized confusion matrix\")\n",
    "    else:\n",
    "        print('Confusion matrix, without normalization')\n",
    "\n",
    "    print(cm)\n",
    "\n",
    "    plt.imshow(cm, interpolation='nearest', cmap=cmap)\n",
    "    plt.title(title)\n",
    "    plt.colorbar()\n",
    "    tick_marks = np.arange(len(classes))\n",
    "    plt.xticks(tick_marks, classes, rotation=45)\n",
    "    plt.yticks(tick_marks, classes)\n",
    "\n",
    "    fmt = '.2f' if normalize else 'd'\n",
    "    thresh = cm.max() / 2.\n",
    "    for i, j in itertools.product(range(cm.shape[0]), range(cm.shape[1])):\n",
    "        plt.text(j, i, format(cm[i, j], fmt),\n",
    "                 horizontalalignment=\"center\",\n",
    "                 color=\"white\" if cm[i, j] > thresh else \"black\")\n",
    "\n",
    "    plt.ylabel('True label')\n",
    "    plt.xlabel('Predicted label')\n",
    "    plt.tight_layout()"
   ]
  },
  {
   "cell_type": "code",
   "execution_count": 2,
   "metadata": {},
   "outputs": [],
   "source": [
    "# Read and treat training dataset\n",
    "dataset_train = pandas.read_csv('fashion-mnist-dataset/fashion-mnist_train.csv').values #np.genfromtxt('fashion-mnist-dataset/fashion-mnist_train.csv', delimiter=',')\n",
    "y_true = dataset_train[:,0]\n",
    "dataset_train = np.delete(dataset_train, 0, 1).T\n",
    "dataset_train = dataset_train / dataset_train.max()\n",
    "\n",
    "# Read and treat test dataset\n",
    "dataset_test = pandas.read_csv('fashion-mnist-dataset/fashion-mnist_test.csv').values\n",
    "target_test = dataset_test[:,0]\n",
    "dataset_test = np.delete(dataset_test, 0, 1).T\n",
    "dataset_test = dataset_test / dataset_test.max()\n",
    "\n",
    "# Separate train dataset in Train and Validation Data\n",
    "half = len(y_true)//2\n",
    "\n",
    "data_train = dataset_train[:,:half]\n",
    "target_train = y_true[:half]\n",
    "data_val = dataset_train[:,half:]\n",
    "target_val = y_true[half:]"
   ]
  },
  {
   "cell_type": "code",
   "execution_count": 3,
   "metadata": {},
   "outputs": [
    {
     "name": "stderr",
     "output_type": "stream",
     "text": [
      "Epochs: 1 / 1:   0%|          | 0/30000 [00:00<?, ?it/s]/home/matheusmortatti/git/Machine-Learning-Class/Assignment02/NeuralNetworkModel.py:185: ComplexWarning: Casting complex values to real discards the imaginary part\n",
      "  self.D[k][i,:] = (a*err[i])[:,0]\n",
      "/home/matheusmortatti/git/Machine-Learning-Class/Assignment02/NeuralNetworkModel.py:186: ComplexWarning: Casting complex values to real discards the imaginary part\n",
      "  self.bD[k][i] = err[i]\n",
      "Epochs: 1 / 1: 100%|██████████| 30000/30000 [1:14:56<00:00,  6.78it/s]\n"
     ]
    },
    {
     "name": "stdout",
     "output_type": "stream",
     "text": [
      "[[2397   34  211  111   41    1  115    1   52    0]\n",
      " [  10 2885   38   35   22    1    5    1    1    0]\n",
      " [  22    6 2367   20  519    2   52    0   20    0]\n",
      " [ 163  134   76 2307  262    1   26    0   18    0]\n",
      " [   5    9  313   52 2663    1   49    0    8    0]\n",
      " [   3    3    6    1    1 2719    2  191   40   52]\n",
      " [ 540   25  608   73  698    1  956    2   59    0]\n",
      " [   0    0    0    0    0   99    0 2781   18   46]\n",
      " [   7    5  129   19   29   17   16   19 2765    1]\n",
      " [   3    3    4    2    0   76    0  298    6 2621]]\n",
      "             precision    recall  f1-score   support\n",
      "\n",
      "          0       0.76      0.81      0.78      2963\n",
      "          1       0.93      0.96      0.95      2998\n",
      "          2       0.63      0.79      0.70      3008\n",
      "          3       0.88      0.77      0.82      2987\n",
      "          4       0.63      0.86      0.73      3100\n",
      "          5       0.93      0.90      0.92      3018\n",
      "          6       0.78      0.32      0.46      2962\n",
      "          7       0.84      0.94      0.89      2944\n",
      "          8       0.93      0.92      0.92      3007\n",
      "          9       0.96      0.87      0.91      3013\n",
      "\n",
      "avg / total       0.83      0.82      0.81     30000\n",
      "\n"
     ]
    },
    {
     "name": "stderr",
     "output_type": "stream",
     "text": [
      "Epochs: 1 / 1: 100%|██████████| 30000/30000 [1:15:00<00:00,  6.69it/s]\n"
     ]
    },
    {
     "name": "stdout",
     "output_type": "stream",
     "text": [
      "[[2301    7   18  186   20    1  407    0   23    0]\n",
      " [  11 2860   18   78    8    0   22    1    0    0]\n",
      " [  55    1 1849   46  488    1  557    0   11    0]\n",
      " [  83   33   11 2650  116    0   81    0   13    0]\n",
      " [   5    2  156  115 2535    0  280    0    7    0]\n",
      " [   5    2    2    2    0 2616    8  229   44  110]\n",
      " [ 391   10  155  112  300    0 1968    0   25    1]\n",
      " [   0    0    0    0    0   48    0 2769   18  109]\n",
      " [  22    1   23   28   21    7  167   18 2719    1]\n",
      " [   4    0    1    1    1   23    0  120    5 2858]]\n",
      "             precision    recall  f1-score   support\n",
      "\n",
      "          0       0.80      0.78      0.79      2963\n",
      "          1       0.98      0.95      0.97      2998\n",
      "          2       0.83      0.61      0.71      3008\n",
      "          3       0.82      0.89      0.85      2987\n",
      "          4       0.73      0.82      0.77      3100\n",
      "          5       0.97      0.87      0.92      3018\n",
      "          6       0.56      0.66      0.61      2962\n",
      "          7       0.88      0.94      0.91      2944\n",
      "          8       0.95      0.90      0.93      3007\n",
      "          9       0.93      0.95      0.94      3013\n",
      "\n",
      "avg / total       0.85      0.84      0.84     30000\n",
      "\n"
     ]
    },
    {
     "name": "stderr",
     "output_type": "stream",
     "text": [
      "Epochs: 1 / 1: 100%|██████████| 30000/30000 [1:14:59<00:00,  6.51it/s]\n"
     ]
    },
    {
     "name": "stdout",
     "output_type": "stream",
     "text": [
      "[[2413    2    9   70   11    1  416    1   40    0]\n",
      " [  26 2856   14   71    6    1   20    1    2    1]\n",
      " [ 109    2 1982   22  352    2  499    0   40    0]\n",
      " [ 192   22    7 2426  170    1  148    0   21    0]\n",
      " [  20    3  211   60 2322    0  461    0   23    0]\n",
      " [   5    1    0    0    0 2664    6  185   49  108]\n",
      " [ 429    8  153   46  176    1 2088    0   60    1]\n",
      " [   0    0    0    0    0   75    0 2740   16  113]\n",
      " [  22    1    5   13    7    7   73   19 2859    1]\n",
      " [   3    0    1    0    0   17    0  131    8 2853]]\n",
      "             precision    recall  f1-score   support\n",
      "\n",
      "          0       0.75      0.81      0.78      2963\n",
      "          1       0.99      0.95      0.97      2998\n",
      "          2       0.83      0.66      0.74      3008\n",
      "          3       0.90      0.81      0.85      2987\n",
      "          4       0.76      0.75      0.76      3100\n",
      "          5       0.96      0.88      0.92      3018\n",
      "          6       0.56      0.70      0.63      2962\n",
      "          7       0.89      0.93      0.91      2944\n",
      "          8       0.92      0.95      0.93      3007\n",
      "          9       0.93      0.95      0.94      3013\n",
      "\n",
      "avg / total       0.85      0.84      0.84     30000\n",
      "\n"
     ]
    },
    {
     "name": "stderr",
     "output_type": "stream",
     "text": [
      "Epochs: 1 / 1: 100%|██████████| 30000/30000 [1:14:57<00:00,  6.86it/s]\n"
     ]
    },
    {
     "name": "stdout",
     "output_type": "stream",
     "text": [
      "[[2581    4    7  126   21    1  197    1   25    0]\n",
      " [  22 2867    5   81    8    1   11    1    1    1]\n",
      " [  99    2 1630   75  714    4  470    0   14    0]\n",
      " [ 150   22    3 2654   97    2   49    0   10    0]\n",
      " [  14    5   81  152 2638    0  203    0    7    0]\n",
      " [   4    1    0    0    0 2813    5  114   11   70]\n",
      " [ 617    9   99  111  362    1 1728    0   34    1]\n",
      " [   0    0    0    0    0  129    0 2710    6   99]\n",
      " [  34    4    4   28   30   29   96   20 2761    1]\n",
      " [   3    0    1    0    0   35    0  117    1 2856]]\n",
      "             precision    recall  f1-score   support\n",
      "\n",
      "          0       0.73      0.87      0.80      2963\n",
      "          1       0.98      0.96      0.97      2998\n",
      "          2       0.89      0.54      0.67      3008\n",
      "          3       0.82      0.89      0.85      2987\n",
      "          4       0.68      0.85      0.76      3100\n",
      "          5       0.93      0.93      0.93      3018\n",
      "          6       0.63      0.58      0.60      2962\n",
      "          7       0.91      0.92      0.92      2944\n",
      "          8       0.96      0.92      0.94      3007\n",
      "          9       0.94      0.95      0.95      3013\n",
      "\n",
      "avg / total       0.85      0.84      0.84     30000\n",
      "\n"
     ]
    },
    {
     "name": "stderr",
     "output_type": "stream",
     "text": [
      "Epochs: 1 / 1: 100%|██████████| 30000/30000 [1:14:02<00:00,  6.77it/s]\n"
     ]
    },
    {
     "name": "stdout",
     "output_type": "stream",
     "text": [
      "[[2486   18  150  112   14    2  145    1   35    0]\n",
      " [  11 2892   30   47    7    1    6    1    2    1]\n",
      " [  36    3 2752   18  128    2   56    0   13    0]\n",
      " [ 110   52   99 2531  141    2   37    0   15    0]\n",
      " [   7    7  791   79 2118    0   90    0    8    0]\n",
      " [   4    1    5    0    0 2767    2  156   19   64]\n",
      " [ 552   13  743   78  248    1 1289    1   36    1]\n",
      " [   0    0    0    0    0   81    0 2793    8   62]\n",
      " [  18    6   86   17   13   13   22   23 2808    1]\n",
      " [   2    0    1    0    0   37    0  166    4 2803]]\n",
      "             precision    recall  f1-score   support\n",
      "\n",
      "          0       0.77      0.84      0.80      2963\n",
      "          1       0.97      0.96      0.97      2998\n",
      "          2       0.59      0.91      0.72      3008\n",
      "          3       0.88      0.85      0.86      2987\n",
      "          4       0.79      0.68      0.73      3100\n",
      "          5       0.95      0.92      0.93      3018\n",
      "          6       0.78      0.44      0.56      2962\n",
      "          7       0.89      0.95      0.92      2944\n",
      "          8       0.95      0.93      0.94      3007\n",
      "          9       0.96      0.93      0.94      3013\n",
      "\n",
      "avg / total       0.85      0.84      0.84     30000\n",
      "\n"
     ]
    },
    {
     "name": "stderr",
     "output_type": "stream",
     "text": [
      "Epochs: 1 / 1: 100%|██████████| 30000/30000 [1:14:12<00:00,  6.84it/s]\n"
     ]
    },
    {
     "name": "stdout",
     "output_type": "stream",
     "text": [
      "[[2432    6   16  133    4    1  329    1   41    0]\n",
      " [  15 2892    5   70    2    1   10    1    1    1]\n",
      " [  96    2 2141   68  277    2  393    0   29    0]\n",
      " [ 102   36    3 2693   49    2   85    0   17    0]\n",
      " [  18   11  257  231 2152    0  410    0   21    0]\n",
      " [   4    2    0    0    0 2761    5  159   27   60]\n",
      " [ 468   10  198   99  137    1 1997    0   51    1]\n",
      " [   0    0    0    0    0   63    0 2774   11   96]\n",
      " [  20    5   10   25    4   10   54   19 2859    1]\n",
      " [   2    0    1    1    0   34    0  123    4 2848]]\n",
      "             precision    recall  f1-score   support\n",
      "\n",
      "          0       0.77      0.82      0.79      2963\n",
      "          1       0.98      0.96      0.97      2998\n",
      "          2       0.81      0.71      0.76      3008\n",
      "          3       0.81      0.90      0.85      2987\n",
      "          4       0.82      0.69      0.75      3100\n",
      "          5       0.96      0.91      0.94      3018\n",
      "          6       0.61      0.67      0.64      2962\n",
      "          7       0.90      0.94      0.92      2944\n",
      "          8       0.93      0.95      0.94      3007\n",
      "          9       0.95      0.95      0.95      3013\n",
      "\n",
      "avg / total       0.85      0.85      0.85     30000\n",
      "\n"
     ]
    },
    {
     "name": "stderr",
     "output_type": "stream",
     "text": [
      "Epochs: 1 / 1: 100%|██████████| 30000/30000 [1:14:10<00:00,  6.90it/s]\n"
     ]
    },
    {
     "name": "stdout",
     "output_type": "stream",
     "text": [
      "[[2111    7   30   97    4    3  676    0   35    0]\n",
      " [   8 2881   16   62    4    1   22    1    2    1]\n",
      " [  32    1 2274   36  149    3  500    0   13    0]\n",
      " [  91   37   17 2603   83    2  139    0   15    0]\n",
      " [   4    7  375  129 1969    0  605    0   11    0]\n",
      " [   3    1    1    0    0 2889    6   68   16   34]\n",
      " [ 235    7  197   66   88    1 2336    0   31    1]\n",
      " [   0    0    0    0    0  202    0 2674   12   56]\n",
      " [  13    4   18   16    5   25  111   12 2802    1]\n",
      " [   3    0    1    1    0   70    0  159    6 2773]]\n",
      "             precision    recall  f1-score   support\n",
      "\n",
      "          0       0.84      0.71      0.77      2963\n",
      "          1       0.98      0.96      0.97      2998\n",
      "          2       0.78      0.76      0.77      3008\n",
      "          3       0.86      0.87      0.87      2987\n",
      "          4       0.86      0.64      0.73      3100\n",
      "          5       0.90      0.96      0.93      3018\n",
      "          6       0.53      0.79      0.64      2962\n",
      "          7       0.92      0.91      0.91      2944\n",
      "          8       0.95      0.93      0.94      3007\n",
      "          9       0.97      0.92      0.94      3013\n",
      "\n",
      "avg / total       0.86      0.84      0.85     30000\n",
      "\n"
     ]
    },
    {
     "name": "stderr",
     "output_type": "stream",
     "text": [
      "Epochs: 1 / 1: 100%|██████████| 30000/30000 [1:13:52<00:00,  6.84it/s]\n"
     ]
    },
    {
     "name": "stdout",
     "output_type": "stream",
     "text": [
      "[[2524   12   42   92    8    2  241    1   41    0]\n",
      " [  16 2900   13   52    6    1    6    1    2    1]\n",
      " [  71    2 2432   40  219    2  219    0   23    0]\n",
      " [ 170   43   14 2581   95    2   65    0   17    0]\n",
      " [  11    9  377  141 2279    0  268    0   15    0]\n",
      " [   4    2    2    0    0 2799    4  138   20   49]\n",
      " [ 525   10  282   70  189    1 1842    1   41    1]\n",
      " [   0    0    0    0    0   88    0 2792    6   58]\n",
      " [  23    6   20   19    8   15   53   18 2844    1]\n",
      " [   5    0    1    0    0   39    0  180    3 2785]]\n",
      "             precision    recall  f1-score   support\n",
      "\n",
      "          0       0.75      0.85      0.80      2963\n",
      "          1       0.97      0.97      0.97      2998\n",
      "          2       0.76      0.81      0.79      3008\n",
      "          3       0.86      0.86      0.86      2987\n",
      "          4       0.81      0.74      0.77      3100\n",
      "          5       0.95      0.93      0.94      3018\n",
      "          6       0.68      0.62      0.65      2962\n",
      "          7       0.89      0.95      0.92      2944\n",
      "          8       0.94      0.95      0.95      3007\n",
      "          9       0.96      0.92      0.94      3013\n",
      "\n",
      "avg / total       0.86      0.86      0.86     30000\n",
      "\n"
     ]
    },
    {
     "name": "stderr",
     "output_type": "stream",
     "text": [
      "Epochs: 1 / 1: 100%|██████████| 30000/30000 [1:13:54<00:00,  6.84it/s]\n"
     ]
    },
    {
     "name": "stdout",
     "output_type": "stream",
     "text": [
      "[[2718    6   26   48    8    2  117    1   37    0]\n",
      " [  27 2888   13   52    5    1    8    1    2    1]\n",
      " [ 128    1 2335   34  215    2  273    0   20    0]\n",
      " [ 276   40   12 2498   86    2   52    0   21    0]\n",
      " [  35    9  346  125 2276    0  289    0   20    0]\n",
      " [   5    2    2    0    0 2838    4  108   17   42]\n",
      " [ 801    8  231   54  168    1 1657    1   40    1]\n",
      " [   0    0    0    0    0  117    0 2754    6   67]\n",
      " [  41    4   12   14    8   20   46   19 2842    1]\n",
      " [   5    0    1    0    0   45    0  157    2 2803]]\n",
      "             precision    recall  f1-score   support\n",
      "\n",
      "          0       0.67      0.92      0.78      2963\n",
      "          1       0.98      0.96      0.97      2998\n",
      "          2       0.78      0.78      0.78      3008\n",
      "          3       0.88      0.84      0.86      2987\n",
      "          4       0.82      0.73      0.78      3100\n",
      "          5       0.94      0.94      0.94      3018\n",
      "          6       0.68      0.56      0.61      2962\n",
      "          7       0.91      0.94      0.92      2944\n",
      "          8       0.95      0.95      0.95      3007\n",
      "          9       0.96      0.93      0.95      3013\n",
      "\n",
      "avg / total       0.86      0.85      0.85     30000\n",
      "\n"
     ]
    },
    {
     "name": "stderr",
     "output_type": "stream",
     "text": [
      "Epochs: 1 / 1: 100%|██████████| 30000/30000 [1:14:15<00:00,  6.77it/s]\n"
     ]
    },
    {
     "name": "stdout",
     "output_type": "stream",
     "text": [
      "[[2453   14   46   81   11    2  319    1   36    0]\n",
      " [  11 2905   14   47    7    1    9    1    2    1]\n",
      " [  55    3 2371   35  297    2  233    0   12    0]\n",
      " [ 150   55   15 2534  128    2   86    0   17    0]\n",
      " [   6    6  291   95 2452    0  239    0   11    0]\n",
      " [   4    2    2    0    0 2758    4  157   17   74]\n",
      " [ 447    9  272   66  236    1 1895    1   34    1]\n",
      " [   0    0    0    0    0   68    0 2783    7   86]\n",
      " [  16    5   28   16   15   17   65   22 2822    1]\n",
      " [   2    0    1    0    0   30    0  130    2 2848]]\n",
      "             precision    recall  f1-score   support\n",
      "\n",
      "          0       0.78      0.83      0.80      2963\n",
      "          1       0.97      0.97      0.97      2998\n",
      "          2       0.78      0.79      0.78      3008\n",
      "          3       0.88      0.85      0.86      2987\n",
      "          4       0.78      0.79      0.79      3100\n",
      "          5       0.96      0.91      0.94      3018\n",
      "          6       0.66      0.64      0.65      2962\n",
      "          7       0.90      0.95      0.92      2944\n",
      "          8       0.95      0.94      0.95      3007\n",
      "          9       0.95      0.95      0.95      3013\n",
      "\n",
      "avg / total       0.86      0.86      0.86     30000\n",
      "\n"
     ]
    }
   ],
   "source": [
    "#######################################\n",
    "#######                         #######\n",
    "#######     Neural Network      #######\n",
    "#######                         #######  \n",
    "#######################################\n",
    "\n",
    "neural_model_sigmoid_1 = NNM.Model(data_train, target_train, activation=\"sigmoid\", epochs=1, alpha=0.01, l_hidden=1, hidden_neurons=512, batch_size=1, use_softmax=True)\n",
    "for i in range(10):\n",
    "    neural_model_sigmoid_1.fit()\n",
    "\n",
    "    neural_y_pred = neural_model_sigmoid_1.Predict(data_val, target_val)\n",
    "    print(confusion_matrix(target_val, neural_y_pred))\n",
    "    print(classification_report(target_val, neural_y_pred))\n",
    "    \n",
    "    neural_model_sigmoid_1.alpha /= 1.2"
   ]
  },
  {
   "cell_type": "code",
   "execution_count": 7,
   "metadata": {},
   "outputs": [
    {
     "name": "stdout",
     "output_type": "stream",
     "text": [
      "[[2453   14   46   81   11    2  319    1   36    0]\n",
      " [  11 2905   14   47    7    1    9    1    2    1]\n",
      " [  55    3 2371   35  297    2  233    0   12    0]\n",
      " [ 150   55   15 2534  128    2   86    0   17    0]\n",
      " [   6    6  291   95 2452    0  239    0   11    0]\n",
      " [   4    2    2    0    0 2758    4  157   17   74]\n",
      " [ 447    9  272   66  236    1 1895    1   34    1]\n",
      " [   0    0    0    0    0   68    0 2783    7   86]\n",
      " [  16    5   28   16   15   17   65   22 2822    1]\n",
      " [   2    0    1    0    0   30    0  130    2 2848]]\n",
      "             precision    recall  f1-score   support\n",
      "\n",
      "          0       0.78      0.83      0.80      2963\n",
      "          1       0.97      0.97      0.97      2998\n",
      "          2       0.78      0.79      0.78      3008\n",
      "          3       0.88      0.85      0.86      2987\n",
      "          4       0.78      0.79      0.79      3100\n",
      "          5       0.96      0.91      0.94      3018\n",
      "          6       0.66      0.64      0.65      2962\n",
      "          7       0.90      0.95      0.92      2944\n",
      "          8       0.95      0.94      0.95      3007\n",
      "          9       0.95      0.95      0.95      3013\n",
      "\n",
      "avg / total       0.86      0.86      0.86     30000\n",
      "\n"
     ]
    }
   ],
   "source": [
    "## Result with Sigmoid, 512 hidden neurons and 1 hidden layer VALIDATION\n",
    "neural_y_pred_val = neural_model_sigmoid_1.Predict(data_val, target_val)\n",
    "neural_conf_matrix_val = confusion_matrix(target_val, neural_y_pred_val)\n",
    "neural_class_report_val = classification_report(target_val, neural_y_pred_val)\n",
    "print(neural_conf_matrix_val)\n",
    "print(neural_class_report_val)"
   ]
  },
  {
   "cell_type": "code",
   "execution_count": 10,
   "metadata": {},
   "outputs": [
    {
     "name": "stdout",
     "output_type": "stream",
     "text": [
      "Confusion matrix, without normalization\n",
      "[[2453   14   46   81   11    2  319    1   36    0]\n",
      " [  11 2905   14   47    7    1    9    1    2    1]\n",
      " [  55    3 2371   35  297    2  233    0   12    0]\n",
      " [ 150   55   15 2534  128    2   86    0   17    0]\n",
      " [   6    6  291   95 2452    0  239    0   11    0]\n",
      " [   4    2    2    0    0 2758    4  157   17   74]\n",
      " [ 447    9  272   66  236    1 1895    1   34    1]\n",
      " [   0    0    0    0    0   68    0 2783    7   86]\n",
      " [  16    5   28   16   15   17   65   22 2822    1]\n",
      " [   2    0    1    0    0   30    0  130    2 2848]]\n"
     ]
    },
    {
     "data": {
      "image/png": "[encoded data removed]",
      "text/plain": [
       "<Figure size 432x288 with 2 Axes>"
      ]
     },
     "metadata": {},
     "output_type": "display_data"
    }
   ],
   "source": [
    "plt.figure()\n",
    "plot_confusion_matrix(neural_conf_matrix_val, np.arange(10))\n",
    "plt.savefig(\"cm_sigmoid_1h_val.png\")\n",
    "plt.show()"
   ]
  },
  {
   "cell_type": "code",
   "execution_count": 12,
   "metadata": {},
   "outputs": [
    {
     "name": "stdout",
     "output_type": "stream",
     "text": [
      "[[831   5  19  25   2   1 105   1  11   0]\n",
      " [  6 972   3  15   0   1   3   0   0   0]\n",
      " [ 14   3 772  14 108   0  83   0   6   0]\n",
      " [ 42  27  13 865  30   1  21   0   1   0]\n",
      " [  3   3  80  26 825   0  61   0   2   0]\n",
      " [  1   3   1   1   0 910   0  59   5  20]\n",
      " [144   8  87  21  73   1 652   0  14   0]\n",
      " [  0   0   0   0   0  20   0 928   0  52]\n",
      " [  6   0  11   2   6   5  20   8 942   0]\n",
      " [  0   0   0   0   0   7   0  48   2 943]]\n",
      "             precision    recall  f1-score   support\n",
      "\n",
      "          0       0.79      0.83      0.81      1000\n",
      "          1       0.95      0.97      0.96      1000\n",
      "          2       0.78      0.77      0.78      1000\n",
      "          3       0.89      0.86      0.88      1000\n",
      "          4       0.79      0.82      0.81      1000\n",
      "          5       0.96      0.91      0.94      1000\n",
      "          6       0.69      0.65      0.67      1000\n",
      "          7       0.89      0.93      0.91      1000\n",
      "          8       0.96      0.94      0.95      1000\n",
      "          9       0.93      0.94      0.94      1000\n",
      "\n",
      "avg / total       0.86      0.86      0.86     10000\n",
      "\n"
     ]
    }
   ],
   "source": [
    "## Result with sigmoid, 512 hidden neurons and 1 hidden layer TEST\n",
    "neural_y_pred = neural_model_sigmoid_1.Predict(dataset_test, target_test)\n",
    "neural_conf_matrix = confusion_matrix(target_test, neural_y_pred)\n",
    "neural_class_report = classification_report(target_test, neural_y_pred)\n",
    "print(neural_conf_matrix)\n",
    "print(neural_class_report)"
   ]
  },
  {
   "cell_type": "code",
   "execution_count": 13,
   "metadata": {},
   "outputs": [
    {
     "name": "stdout",
     "output_type": "stream",
     "text": [
      "Confusion matrix, without normalization\n",
      "[[831   5  19  25   2   1 105   1  11   0]\n",
      " [  6 972   3  15   0   1   3   0   0   0]\n",
      " [ 14   3 772  14 108   0  83   0   6   0]\n",
      " [ 42  27  13 865  30   1  21   0   1   0]\n",
      " [  3   3  80  26 825   0  61   0   2   0]\n",
      " [  1   3   1   1   0 910   0  59   5  20]\n",
      " [144   8  87  21  73   1 652   0  14   0]\n",
      " [  0   0   0   0   0  20   0 928   0  52]\n",
      " [  6   0  11   2   6   5  20   8 942   0]\n",
      " [  0   0   0   0   0   7   0  48   2 943]]\n"
     ]
    },
    {
     "data": {
      "image/png": "[encoded data removed]",
      "text/plain": [
       "<Figure size 432x288 with 2 Axes>"
      ]
     },
     "metadata": {},
     "output_type": "display_data"
    }
   ],
   "source": [
    "plt.figure()\n",
    "plot_confusion_matrix(neural_conf_matrix, np.arange(10))\n",
    "plt.savefig(\"cm_sigmoid_1h.png\")\n",
    "plt.show()"
   ]
  },
  {
   "cell_type": "code",
   "execution_count": null,
   "metadata": {},
   "outputs": [],
   "source": []
  }
 ],
 "metadata": {
  "kernelspec": {
   "display_name": "Python 3",
   "language": "python",
   "name": "python3"
  },
  "language_info": {
   "codemirror_mode": {
    "name": "ipython",
    "version": 3
   },
   "file_extension": ".py",
   "mimetype": "text/x-python",
   "name": "python",
   "nbconvert_exporter": "python",
   "pygments_lexer": "ipython3",
   "version": "3.5.2"
  }
 },
 "nbformat": 4,
 "nbformat_minor": 2
}
