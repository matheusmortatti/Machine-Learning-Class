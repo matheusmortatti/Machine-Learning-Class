{
 "cells": [
  {
   "cell_type": "code",
   "execution_count": 1,
   "metadata": {},
   "outputs": [
    {
     "name": "stdout",
     "output_type": "stream",
     "text": [
      "Automatically created module for IPython interactive environment\n"
     ]
    }
   ],
   "source": [
    "print(__doc__)\n",
    "\n",
    "# Code source adapted from: Jaques Grobler\n",
    "# License: BSD 3 clause\n",
    "\n",
    "import random\n",
    "import matplotlib.pyplot as plt\n",
    "import numpy as np\n",
    "import pandas\n",
    "import os\n",
    "import csv\n",
    "import pprint\n",
    "import time\n",
    "import itertools\n",
    "import NeuralNetworkModel as NNM\n",
    "import LogisticRegressionModel as LRM\n",
    "import SoftmaxRegressionModel as SRM\n",
    "from sklearn.metrics import confusion_matrix\n",
    "from sklearn.metrics import classification_report\n",
    "\n",
    "pp = pprint.PrettyPrinter(indent=4)"
   ]
  },
  {
   "cell_type": "code",
   "execution_count": 2,
   "metadata": {},
   "outputs": [],
   "source": [
    "def plot_confusion_matrix(cm, classes,\n",
    "                          normalize=False,\n",
    "                          title='Confusion matrix',\n",
    "                          cmap=plt.cm.Blues):\n",
    "    \"\"\"\n",
    "    This function prints and plots the confusion matrix.\n",
    "    Normalization can be applied by setting `normalize=True`.\n",
    "    \"\"\"\n",
    "    if normalize:\n",
    "        cm = cm.astype('float') / cm.sum(axis=1)[:, np.newaxis]\n",
    "        print(\"Normalized confusion matrix\")\n",
    "    else:\n",
    "        print('Confusion matrix, without normalization')\n",
    "\n",
    "    print(cm)\n",
    "\n",
    "    plt.imshow(cm, interpolation='nearest', cmap=cmap)\n",
    "    plt.title(title)\n",
    "    plt.colorbar()\n",
    "    tick_marks = np.arange(len(classes))\n",
    "    plt.xticks(tick_marks, classes, rotation=45)\n",
    "    plt.yticks(tick_marks, classes)\n",
    "\n",
    "    fmt = '.2f' if normalize else 'd'\n",
    "    thresh = cm.max() / 2.\n",
    "    for i, j in itertools.product(range(cm.shape[0]), range(cm.shape[1])):\n",
    "        plt.text(j, i, format(cm[i, j], fmt),\n",
    "                 horizontalalignment=\"center\",\n",
    "                 color=\"white\" if cm[i, j] > thresh else \"black\")\n",
    "\n",
    "    plt.ylabel('True label')\n",
    "    plt.xlabel('Predicted label')\n",
    "    plt.tight_layout()"
   ]
  },
  {
   "cell_type": "code",
   "execution_count": 3,
   "metadata": {},
   "outputs": [],
   "source": [
    "# Read and treat training dataset\n",
    "dataset_train = pandas.read_csv('fashion-mnist-dataset/fashion-mnist_train.csv').values #np.genfromtxt('fashion-mnist-dataset/fashion-mnist_train.csv', delimiter=',')\n",
    "y_true = dataset_train[:,0]\n",
    "dataset_train = np.delete(dataset_train, 0, 1).T\n",
    "dataset_train = dataset_train / dataset_train.max()\n",
    "\n",
    "# Read and treat test dataset\n",
    "dataset_test = pandas.read_csv('fashion-mnist-dataset/fashion-mnist_test.csv').values\n",
    "target_test = dataset_test[:,0]\n",
    "dataset_test = np.delete(dataset_test, 0, 1).T\n",
    "dataset_test = dataset_test / dataset_test.max()\n",
    "\n",
    "# Separate train dataset in Train and Validation Data\n",
    "half = len(y_true)//2\n",
    "\n",
    "data_train = dataset_train[:,:half]\n",
    "target_train = y_true[:half]\n",
    "data_val = dataset_train[:,half:]\n",
    "target_val = y_true[half:]"
   ]
  },
  {
   "cell_type": "code",
   "execution_count": null,
   "metadata": {},
   "outputs": [
    {
     "name": "stderr",
     "output_type": "stream",
     "text": [
      "Epochs: 1 / 1:   0%|          | 0/30000 [00:00<?, ?it/s]/home/matheusmortatti/git/Machine-Learning-Class/Assignment02/NeuralNetworkModel.py:185: ComplexWarning: Casting complex values to real discards the imaginary part\n",
      "  self.D[k][i,:] = (a*err[i])[:,0]\n",
      "/home/matheusmortatti/git/Machine-Learning-Class/Assignment02/NeuralNetworkModel.py:186: ComplexWarning: Casting complex values to real discards the imaginary part\n",
      "  self.bD[k][i] = err[i]\n",
      "Epochs: 1 / 1:   0%|          | 34/30000 [00:07<1:55:13,  4.33it/s]"
     ]
    }
   ],
   "source": [
    "#######################################\n",
    "#######                         #######\n",
    "#######     Neural Network      #######\n",
    "#######                         #######  \n",
    "#######################################\n",
    "\n",
    "neural_model_sigmoid_1 = NNM.Model(data_train, target_train, activation=\"sigmoid\", epochs=1, alpha=0.01, l_hidden=2, hidden_neurons=512, batch_size=1, use_softmax=True)\n",
    "for i in range(10):\n",
    "    neural_model_sigmoid_1.fit()\n",
    "\n",
    "    neural_y_pred = neural_model_sigmoid_1.Predict(data_val, target_val)\n",
    "    print(confusion_matrix(target_val, neural_y_pred))\n",
    "    print(classification_report(target_val, neural_y_pred))\n",
    "    \n",
    "    neural_model_sigmoid_1.alpha /= 1.2"
   ]
  },
  {
   "cell_type": "code",
   "execution_count": null,
   "metadata": {},
   "outputs": [],
   "source": [
    "## Result with Sigmoid, 512 hidden neurons and 1 hidden layer VALIDATION\n",
    "neural_y_pred_val = neural_model_sigmoid_1.Predict(data_val, target_val)\n",
    "neural_conf_matrix_val = confusion_matrix(target_val, neural_y_pred_val)\n",
    "neural_class_report_val = classification_report(target_val, neural_y_pred_val)\n",
    "print(neural_conf_matrix_val)\n",
    "print(neural_class_report_val)"
   ]
  },
  {
   "cell_type": "code",
   "execution_count": null,
   "metadata": {},
   "outputs": [],
   "source": [
    "plt.figure()\n",
    "plot_confusion_matrix(neural_conf_matrix_val, np.arange(10))\n",
    "plt.savefig(\"cm_sigmoid_2h_val.png\")\n",
    "plt.show()"
   ]
  },
  {
   "cell_type": "code",
   "execution_count": null,
   "metadata": {},
   "outputs": [],
   "source": [
    "## Result with sigmoid, 512 hidden neurons and 1 hidden layer TEST\n",
    "neural_y_pred = neural_model_sigmoid_1.Predict(dataset_test, target_test)\n",
    "neural_conf_matrix = confusion_matrix(target_test, neural_y_pred)\n",
    "neural_class_report = classification_report(target_test, neural_y_pred)\n",
    "print(neural_conf_matrix)\n",
    "print(neural_class_report)"
   ]
  },
  {
   "cell_type": "code",
   "execution_count": null,
   "metadata": {},
   "outputs": [],
   "source": [
    "plt.figure()\n",
    "plot_confusion_matrix(neural_conf_matrix, np.arange(10))\n",
    "plt.savefig(\"cm_sigmoid_2h.png\")\n",
    "plt.show()"
   ]
  },
  {
   "cell_type": "code",
   "execution_count": null,
   "metadata": {},
   "outputs": [],
   "source": []
  }
 ],
 "metadata": {
  "kernelspec": {
   "display_name": "Python 3",
   "language": "python",
   "name": "python3"
  },
  "language_info": {
   "codemirror_mode": {
    "name": "ipython",
    "version": 3
   },
   "file_extension": ".py",
   "mimetype": "text/x-python",
   "name": "python",
   "nbconvert_exporter": "python",
   "pygments_lexer": "ipython3",
   "version": "3.5.2"
  }
 },
 "nbformat": 4,
 "nbformat_minor": 2
}
