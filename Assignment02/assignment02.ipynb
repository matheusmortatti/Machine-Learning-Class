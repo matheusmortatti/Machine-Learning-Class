{
 "cells": [
  {
   "cell_type": "code",
   "execution_count": 2,
   "metadata": {},
   "outputs": [
    {
     "name": "stdout",
     "output_type": "stream",
     "text": [
      "Automatically created module for IPython interactive environment\n"
     ]
    }
   ],
   "source": [
    "print(__doc__)\n",
    "\n",
    "# Code source adapted from: Jaques Grobler\n",
    "# License: BSD 3 clause\n",
    "\n",
    "import random\n",
    "import matplotlib.pyplot as plt\n",
    "import numpy as np\n",
    "import pandas\n",
    "import os\n",
    "import csv\n",
    "import pprint\n",
    "import time\n",
    "import NeuralNetworkModel as NNM\n",
    "import LogisticRegressionModel as LRM\n",
    "import SoftmaxRegressionModel as SRM\n",
    "from sklearn.metrics import confusion_matrix\n",
    "from sklearn.metrics import classification_report\n",
    "\n",
    "pp = pprint.PrettyPrinter(indent=4)"
   ]
  },
  {
   "cell_type": "code",
   "execution_count": 3,
   "metadata": {},
   "outputs": [],
   "source": [
    "# Read and treat training dataset\n",
    "dataset_train = pandas.read_csv('fashion-mnist-dataset/fashion-mnist_train.csv').values #np.genfromtxt('fashion-mnist-dataset/fashion-mnist_train.csv', delimiter=',')\n",
    "y_true = dataset_train[:,0]\n",
    "dataset_train = np.delete(dataset_train, 0, 1).T\n",
    "dataset_train = dataset_train / dataset_train.max()\n",
    "\n",
    "# Read and treat test dataset\n",
    "dataset_test = pandas.read_csv('fashion-mnist-dataset/fashion-mnist_test.csv').values\n",
    "target_test = dataset_test[:,0]\n",
    "dataset_test = np.delete(dataset_test, 0, 1).T\n",
    "dataset_test = dataset_test / dataset_test.max()\n",
    "\n",
    "# Separate train dataset in Train and Validation Data\n",
    "half = len(y_true)//2\n",
    "\n",
    "data_train = dataset_train[:,:half]\n",
    "target_train = y_true[:half]\n",
    "data_val = dataset_train[:,half:]\n",
    "target_val = y_true[half:]"
   ]
  },
  {
   "cell_type": "code",
   "execution_count": 3,
   "metadata": {},
   "outputs": [
    {
     "name": "stdout",
     "output_type": "stream",
     "text": [
      "\n",
      "Training class 1 of 10\n",
      "\n",
      "Epochs: 1 / 10\n"
     ]
    },
    {
     "data": {
      "application/vnd.jupyter.widget-view+json": {
       "model_id": "8f36f2c172b648b8aeeaf7d0a0dae663",
       "version_major": 2,
       "version_minor": 0
      },
      "text/plain": [
       "VBox(children=(HTML(value=''), IntProgress(value=0, max=30000)))"
      ]
     },
     "metadata": {},
     "output_type": "display_data"
    },
    {
     "name": "stdout",
     "output_type": "stream",
     "text": [
      "Epochs: 2 / 10\n"
     ]
    },
    {
     "data": {
      "application/vnd.jupyter.widget-view+json": {
       "model_id": "71c4f15888e14cedb151cc5afe79156e",
       "version_major": 2,
       "version_minor": 0
      },
      "text/plain": [
       "VBox(children=(HTML(value=''), IntProgress(value=0, max=30000)))"
      ]
     },
     "metadata": {},
     "output_type": "display_data"
    },
    {
     "name": "stdout",
     "output_type": "stream",
     "text": [
      "Epochs: 3 / 10\n"
     ]
    },
    {
     "data": {
      "application/vnd.jupyter.widget-view+json": {
       "model_id": "95be535c456e4d98a2469cded8c5ded2",
       "version_major": 2,
       "version_minor": 0
      },
      "text/plain": [
       "VBox(children=(HTML(value=''), IntProgress(value=0, max=30000)))"
      ]
     },
     "metadata": {},
     "output_type": "display_data"
    },
    {
     "name": "stdout",
     "output_type": "stream",
     "text": [
      "Epochs: 4 / 10\n"
     ]
    },
    {
     "data": {
      "application/vnd.jupyter.widget-view+json": {
       "model_id": "ee801cdb0fe848ef8f0e76a8a75bcc16",
       "version_major": 2,
       "version_minor": 0
      },
      "text/plain": [
       "VBox(children=(HTML(value=''), IntProgress(value=0, max=30000)))"
      ]
     },
     "metadata": {},
     "output_type": "display_data"
    },
    {
     "name": "stdout",
     "output_type": "stream",
     "text": [
      "Epochs: 5 / 10\n"
     ]
    },
    {
     "data": {
      "application/vnd.jupyter.widget-view+json": {
       "model_id": "b007741dfced4097a796dba1678c0db8",
       "version_major": 2,
       "version_minor": 0
      },
      "text/plain": [
       "VBox(children=(HTML(value=''), IntProgress(value=0, max=30000)))"
      ]
     },
     "metadata": {},
     "output_type": "display_data"
    },
    {
     "name": "stdout",
     "output_type": "stream",
     "text": [
      "Epochs: 6 / 10\n"
     ]
    },
    {
     "data": {
      "application/vnd.jupyter.widget-view+json": {
       "model_id": "b5f26fc23bcb444883df57d244cd2f49",
       "version_major": 2,
       "version_minor": 0
      },
      "text/plain": [
       "VBox(children=(HTML(value=''), IntProgress(value=0, max=30000)))"
      ]
     },
     "metadata": {},
     "output_type": "display_data"
    },
    {
     "name": "stdout",
     "output_type": "stream",
     "text": [
      "Epochs: 7 / 10\n"
     ]
    },
    {
     "data": {
      "application/vnd.jupyter.widget-view+json": {
       "model_id": "4dfae40f1df04da789d00d4e9f03c870",
       "version_major": 2,
       "version_minor": 0
      },
      "text/plain": [
       "VBox(children=(HTML(value=''), IntProgress(value=0, max=30000)))"
      ]
     },
     "metadata": {},
     "output_type": "display_data"
    },
    {
     "name": "stdout",
     "output_type": "stream",
     "text": [
      "Epochs: 8 / 10\n"
     ]
    },
    {
     "data": {
      "application/vnd.jupyter.widget-view+json": {
       "model_id": "93a2d56d06ad4dcc8526d0d81a1c63b8",
       "version_major": 2,
       "version_minor": 0
      },
      "text/plain": [
       "VBox(children=(HTML(value=''), IntProgress(value=0, max=30000)))"
      ]
     },
     "metadata": {},
     "output_type": "display_data"
    },
    {
     "name": "stdout",
     "output_type": "stream",
     "text": [
      "Epochs: 9 / 10\n"
     ]
    },
    {
     "data": {
      "application/vnd.jupyter.widget-view+json": {
       "model_id": "6451b0e3bf3a4606a8333df5a9a7da2e",
       "version_major": 2,
       "version_minor": 0
      },
      "text/plain": [
       "VBox(children=(HTML(value=''), IntProgress(value=0, max=30000)))"
      ]
     },
     "metadata": {},
     "output_type": "display_data"
    },
    {
     "name": "stdout",
     "output_type": "stream",
     "text": [
      "Epochs: 10 / 10\n"
     ]
    },
    {
     "data": {
      "application/vnd.jupyter.widget-view+json": {
       "model_id": "5d3dcb614a904162b4bb3dbcd64ed3af",
       "version_major": 2,
       "version_minor": 0
      },
      "text/plain": [
       "VBox(children=(HTML(value=''), IntProgress(value=0, max=30000)))"
      ]
     },
     "metadata": {},
     "output_type": "display_data"
    },
    {
     "name": "stdout",
     "output_type": "stream",
     "text": [
      "\n",
      "Training class 2 of 10\n",
      "\n",
      "Epochs: 1 / 10\n"
     ]
    },
    {
     "data": {
      "application/vnd.jupyter.widget-view+json": {
       "model_id": "be627c3086184b638085d0000e60a489",
       "version_major": 2,
       "version_minor": 0
      },
      "text/plain": [
       "VBox(children=(HTML(value=''), IntProgress(value=0, max=30000)))"
      ]
     },
     "metadata": {},
     "output_type": "display_data"
    },
    {
     "name": "stdout",
     "output_type": "stream",
     "text": [
      "Epochs: 2 / 10\n"
     ]
    },
    {
     "data": {
      "application/vnd.jupyter.widget-view+json": {
       "model_id": "681ea6a3cd4b4f13ae1c654c02c9d7fa",
       "version_major": 2,
       "version_minor": 0
      },
      "text/plain": [
       "VBox(children=(HTML(value=''), IntProgress(value=0, max=30000)))"
      ]
     },
     "metadata": {},
     "output_type": "display_data"
    },
    {
     "name": "stdout",
     "output_type": "stream",
     "text": [
      "Epochs: 3 / 10\n"
     ]
    },
    {
     "data": {
      "application/vnd.jupyter.widget-view+json": {
       "model_id": "c4d0d4f9ec23493aa630f0e69c4cecf5",
       "version_major": 2,
       "version_minor": 0
      },
      "text/plain": [
       "VBox(children=(HTML(value=''), IntProgress(value=0, max=30000)))"
      ]
     },
     "metadata": {},
     "output_type": "display_data"
    },
    {
     "name": "stdout",
     "output_type": "stream",
     "text": [
      "Epochs: 4 / 10\n"
     ]
    },
    {
     "data": {
      "application/vnd.jupyter.widget-view+json": {
       "model_id": "77084e2e8d864e18ab517b15d238d844",
       "version_major": 2,
       "version_minor": 0
      },
      "text/plain": [
       "VBox(children=(HTML(value=''), IntProgress(value=0, max=30000)))"
      ]
     },
     "metadata": {},
     "output_type": "display_data"
    },
    {
     "name": "stdout",
     "output_type": "stream",
     "text": [
      "Epochs: 5 / 10\n"
     ]
    },
    {
     "data": {
      "application/vnd.jupyter.widget-view+json": {
       "model_id": "cbf1787ceec54b2fa4b235a04487a843",
       "version_major": 2,
       "version_minor": 0
      },
      "text/plain": [
       "VBox(children=(HTML(value=''), IntProgress(value=0, max=30000)))"
      ]
     },
     "metadata": {},
     "output_type": "display_data"
    },
    {
     "name": "stdout",
     "output_type": "stream",
     "text": [
      "Epochs: 6 / 10\n"
     ]
    },
    {
     "data": {
      "application/vnd.jupyter.widget-view+json": {
       "model_id": "56a1bf2c2b7b49adae8513dd56368bfc",
       "version_major": 2,
       "version_minor": 0
      },
      "text/plain": [
       "VBox(children=(HTML(value=''), IntProgress(value=0, max=30000)))"
      ]
     },
     "metadata": {},
     "output_type": "display_data"
    },
    {
     "name": "stdout",
     "output_type": "stream",
     "text": [
      "Epochs: 7 / 10\n"
     ]
    },
    {
     "data": {
      "application/vnd.jupyter.widget-view+json": {
       "model_id": "cc30d93ec2ce46a4a347456aa5b9a2b1",
       "version_major": 2,
       "version_minor": 0
      },
      "text/plain": [
       "VBox(children=(HTML(value=''), IntProgress(value=0, max=30000)))"
      ]
     },
     "metadata": {},
     "output_type": "display_data"
    },
    {
     "name": "stdout",
     "output_type": "stream",
     "text": [
      "Epochs: 8 / 10\n"
     ]
    },
    {
     "data": {
      "application/vnd.jupyter.widget-view+json": {
       "model_id": "dbd414d3c27247958286d2177ab0b2c5",
       "version_major": 2,
       "version_minor": 0
      },
      "text/plain": [
       "VBox(children=(HTML(value=''), IntProgress(value=0, max=30000)))"
      ]
     },
     "metadata": {},
     "output_type": "display_data"
    },
    {
     "name": "stdout",
     "output_type": "stream",
     "text": [
      "Epochs: 9 / 10\n"
     ]
    },
    {
     "data": {
      "application/vnd.jupyter.widget-view+json": {
       "model_id": "0d96a3a77faf40839829ea36cbcae180",
       "version_major": 2,
       "version_minor": 0
      },
      "text/plain": [
       "VBox(children=(HTML(value=''), IntProgress(value=0, max=30000)))"
      ]
     },
     "metadata": {},
     "output_type": "display_data"
    },
    {
     "name": "stdout",
     "output_type": "stream",
     "text": [
      "Epochs: 10 / 10\n"
     ]
    },
    {
     "data": {
      "application/vnd.jupyter.widget-view+json": {
       "model_id": "f926060dae904561a4b2e66c751a439d",
       "version_major": 2,
       "version_minor": 0
      },
      "text/plain": [
       "VBox(children=(HTML(value=''), IntProgress(value=0, max=30000)))"
      ]
     },
     "metadata": {},
     "output_type": "display_data"
    },
    {
     "name": "stdout",
     "output_type": "stream",
     "text": [
      "\n",
      "Training class 3 of 10\n",
      "\n",
      "Epochs: 1 / 10\n"
     ]
    },
    {
     "data": {
      "application/vnd.jupyter.widget-view+json": {
       "model_id": "6bae41a691e14d9394c5ae782fd2c257",
       "version_major": 2,
       "version_minor": 0
      },
      "text/plain": [
       "VBox(children=(HTML(value=''), IntProgress(value=0, max=30000)))"
      ]
     },
     "metadata": {},
     "output_type": "display_data"
    },
    {
     "name": "stdout",
     "output_type": "stream",
     "text": [
      "Epochs: 2 / 10\n"
     ]
    },
    {
     "data": {
      "application/vnd.jupyter.widget-view+json": {
       "model_id": "cda15cbfe753482681f325605b95a985",
       "version_major": 2,
       "version_minor": 0
      },
      "text/plain": [
       "VBox(children=(HTML(value=''), IntProgress(value=0, max=30000)))"
      ]
     },
     "metadata": {},
     "output_type": "display_data"
    },
    {
     "name": "stdout",
     "output_type": "stream",
     "text": [
      "Epochs: 3 / 10\n"
     ]
    },
    {
     "data": {
      "application/vnd.jupyter.widget-view+json": {
       "model_id": "0c198aba1c254204bcb244159d210334",
       "version_major": 2,
       "version_minor": 0
      },
      "text/plain": [
       "VBox(children=(HTML(value=''), IntProgress(value=0, max=30000)))"
      ]
     },
     "metadata": {},
     "output_type": "display_data"
    },
    {
     "name": "stdout",
     "output_type": "stream",
     "text": [
      "Epochs: 4 / 10\n"
     ]
    },
    {
     "data": {
      "application/vnd.jupyter.widget-view+json": {
       "model_id": "fe9735c9b44940feb190aeb256a3b367",
       "version_major": 2,
       "version_minor": 0
      },
      "text/plain": [
       "VBox(children=(HTML(value=''), IntProgress(value=0, max=30000)))"
      ]
     },
     "metadata": {},
     "output_type": "display_data"
    },
    {
     "name": "stdout",
     "output_type": "stream",
     "text": [
      "Epochs: 5 / 10\n"
     ]
    },
    {
     "data": {
      "application/vnd.jupyter.widget-view+json": {
       "model_id": "e009aabf84144024aeb6dd4b24aca272",
       "version_major": 2,
       "version_minor": 0
      },
      "text/plain": [
       "VBox(children=(HTML(value=''), IntProgress(value=0, max=30000)))"
      ]
     },
     "metadata": {},
     "output_type": "display_data"
    },
    {
     "name": "stdout",
     "output_type": "stream",
     "text": [
      "Epochs: 6 / 10\n"
     ]
    },
    {
     "data": {
      "application/vnd.jupyter.widget-view+json": {
       "model_id": "db63fa25857143079f6c78d6c1afec68",
       "version_major": 2,
       "version_minor": 0
      },
      "text/plain": [
       "VBox(children=(HTML(value=''), IntProgress(value=0, max=30000)))"
      ]
     },
     "metadata": {},
     "output_type": "display_data"
    },
    {
     "name": "stdout",
     "output_type": "stream",
     "text": [
      "Epochs: 7 / 10\n"
     ]
    },
    {
     "data": {
      "application/vnd.jupyter.widget-view+json": {
       "model_id": "52e650ea75284b61925db14d4adaf532",
       "version_major": 2,
       "version_minor": 0
      },
      "text/plain": [
       "VBox(children=(HTML(value=''), IntProgress(value=0, max=30000)))"
      ]
     },
     "metadata": {},
     "output_type": "display_data"
    },
    {
     "name": "stdout",
     "output_type": "stream",
     "text": [
      "Epochs: 8 / 10\n"
     ]
    },
    {
     "data": {
      "application/vnd.jupyter.widget-view+json": {
       "model_id": "41a2a22c5c614c098593a04b456e90ca",
       "version_major": 2,
       "version_minor": 0
      },
      "text/plain": [
       "VBox(children=(HTML(value=''), IntProgress(value=0, max=30000)))"
      ]
     },
     "metadata": {},
     "output_type": "display_data"
    },
    {
     "name": "stdout",
     "output_type": "stream",
     "text": [
      "Epochs: 9 / 10\n"
     ]
    },
    {
     "data": {
      "application/vnd.jupyter.widget-view+json": {
       "model_id": "470afa94f1c3454fb98afc1ba923bed0",
       "version_major": 2,
       "version_minor": 0
      },
      "text/plain": [
       "VBox(children=(HTML(value=''), IntProgress(value=0, max=30000)))"
      ]
     },
     "metadata": {},
     "output_type": "display_data"
    },
    {
     "name": "stdout",
     "output_type": "stream",
     "text": [
      "Epochs: 10 / 10\n"
     ]
    },
    {
     "data": {
      "application/vnd.jupyter.widget-view+json": {
       "model_id": "9b567d4356f94d548aeec33a5923f83e",
       "version_major": 2,
       "version_minor": 0
      },
      "text/plain": [
       "VBox(children=(HTML(value=''), IntProgress(value=0, max=30000)))"
      ]
     },
     "metadata": {},
     "output_type": "display_data"
    },
    {
     "name": "stdout",
     "output_type": "stream",
     "text": [
      "\n",
      "Training class 4 of 10\n",
      "\n",
      "Epochs: 1 / 10\n"
     ]
    },
    {
     "data": {
      "application/vnd.jupyter.widget-view+json": {
       "model_id": "d76762def2bf4cd4b973741efd427ff3",
       "version_major": 2,
       "version_minor": 0
      },
      "text/plain": [
       "VBox(children=(HTML(value=''), IntProgress(value=0, max=30000)))"
      ]
     },
     "metadata": {},
     "output_type": "display_data"
    },
    {
     "name": "stdout",
     "output_type": "stream",
     "text": [
      "Epochs: 2 / 10\n"
     ]
    },
    {
     "data": {
      "application/vnd.jupyter.widget-view+json": {
       "model_id": "b39d11b919954e948116faeda751c082",
       "version_major": 2,
       "version_minor": 0
      },
      "text/plain": [
       "VBox(children=(HTML(value=''), IntProgress(value=0, max=30000)))"
      ]
     },
     "metadata": {},
     "output_type": "display_data"
    },
    {
     "name": "stdout",
     "output_type": "stream",
     "text": [
      "Epochs: 3 / 10\n"
     ]
    },
    {
     "data": {
      "application/vnd.jupyter.widget-view+json": {
       "model_id": "d8593a272564451982f116a2553fd9b2",
       "version_major": 2,
       "version_minor": 0
      },
      "text/plain": [
       "VBox(children=(HTML(value=''), IntProgress(value=0, max=30000)))"
      ]
     },
     "metadata": {},
     "output_type": "display_data"
    },
    {
     "name": "stdout",
     "output_type": "stream",
     "text": [
      "Epochs: 4 / 10\n"
     ]
    },
    {
     "data": {
      "application/vnd.jupyter.widget-view+json": {
       "model_id": "64d9eb70f75d4626ba46e267ea9be67e",
       "version_major": 2,
       "version_minor": 0
      },
      "text/plain": [
       "VBox(children=(HTML(value=''), IntProgress(value=0, max=30000)))"
      ]
     },
     "metadata": {},
     "output_type": "display_data"
    },
    {
     "name": "stdout",
     "output_type": "stream",
     "text": [
      "Epochs: 5 / 10\n"
     ]
    },
    {
     "data": {
      "application/vnd.jupyter.widget-view+json": {
       "model_id": "e17846fe043347fdb8093fa2961e2850",
       "version_major": 2,
       "version_minor": 0
      },
      "text/plain": [
       "VBox(children=(HTML(value=''), IntProgress(value=0, max=30000)))"
      ]
     },
     "metadata": {},
     "output_type": "display_data"
    },
    {
     "name": "stdout",
     "output_type": "stream",
     "text": [
      "Epochs: 6 / 10\n"
     ]
    },
    {
     "data": {
      "application/vnd.jupyter.widget-view+json": {
       "model_id": "c8a3da2573ee49dba0b9b78592d962f0",
       "version_major": 2,
       "version_minor": 0
      },
      "text/plain": [
       "VBox(children=(HTML(value=''), IntProgress(value=0, max=30000)))"
      ]
     },
     "metadata": {},
     "output_type": "display_data"
    },
    {
     "name": "stdout",
     "output_type": "stream",
     "text": [
      "Epochs: 7 / 10\n"
     ]
    },
    {
     "data": {
      "application/vnd.jupyter.widget-view+json": {
       "model_id": "ed50d46f05214c71b702fa29ba2b42d4",
       "version_major": 2,
       "version_minor": 0
      },
      "text/plain": [
       "VBox(children=(HTML(value=''), IntProgress(value=0, max=30000)))"
      ]
     },
     "metadata": {},
     "output_type": "display_data"
    },
    {
     "name": "stdout",
     "output_type": "stream",
     "text": [
      "Epochs: 8 / 10\n"
     ]
    },
    {
     "data": {
      "application/vnd.jupyter.widget-view+json": {
       "model_id": "53c0685ba03f4b4786bb62ebe8e37e2a",
       "version_major": 2,
       "version_minor": 0
      },
      "text/plain": [
       "VBox(children=(HTML(value=''), IntProgress(value=0, max=30000)))"
      ]
     },
     "metadata": {},
     "output_type": "display_data"
    },
    {
     "name": "stdout",
     "output_type": "stream",
     "text": [
      "Epochs: 9 / 10\n"
     ]
    },
    {
     "data": {
      "application/vnd.jupyter.widget-view+json": {
       "model_id": "1084d2e2bae34ec688cc0e271ab39747",
       "version_major": 2,
       "version_minor": 0
      },
      "text/plain": [
       "VBox(children=(HTML(value=''), IntProgress(value=0, max=30000)))"
      ]
     },
     "metadata": {},
     "output_type": "display_data"
    },
    {
     "name": "stdout",
     "output_type": "stream",
     "text": [
      "Epochs: 10 / 10\n"
     ]
    },
    {
     "data": {
      "application/vnd.jupyter.widget-view+json": {
       "model_id": "bf94f948d4f24a938957bc51b300711c",
       "version_major": 2,
       "version_minor": 0
      },
      "text/plain": [
       "VBox(children=(HTML(value=''), IntProgress(value=0, max=30000)))"
      ]
     },
     "metadata": {},
     "output_type": "display_data"
    },
    {
     "name": "stdout",
     "output_type": "stream",
     "text": [
      "\n",
      "Training class 5 of 10\n",
      "\n",
      "Epochs: 1 / 10\n"
     ]
    },
    {
     "data": {
      "application/vnd.jupyter.widget-view+json": {
       "model_id": "7b0b41a5449c44a8ac3010fd3577a757",
       "version_major": 2,
       "version_minor": 0
      },
      "text/plain": [
       "VBox(children=(HTML(value=''), IntProgress(value=0, max=30000)))"
      ]
     },
     "metadata": {},
     "output_type": "display_data"
    },
    {
     "name": "stdout",
     "output_type": "stream",
     "text": [
      "Epochs: 2 / 10\n"
     ]
    },
    {
     "data": {
      "application/vnd.jupyter.widget-view+json": {
       "model_id": "52a0d6251a6644a1a25b272f704e5dd1",
       "version_major": 2,
       "version_minor": 0
      },
      "text/plain": [
       "VBox(children=(HTML(value=''), IntProgress(value=0, max=30000)))"
      ]
     },
     "metadata": {},
     "output_type": "display_data"
    },
    {
     "name": "stdout",
     "output_type": "stream",
     "text": [
      "Epochs: 3 / 10\n"
     ]
    },
    {
     "data": {
      "application/vnd.jupyter.widget-view+json": {
       "model_id": "291df861481d4f6b9a51de611fce8ab6",
       "version_major": 2,
       "version_minor": 0
      },
      "text/plain": [
       "VBox(children=(HTML(value=''), IntProgress(value=0, max=30000)))"
      ]
     },
     "metadata": {},
     "output_type": "display_data"
    },
    {
     "name": "stdout",
     "output_type": "stream",
     "text": [
      "Epochs: 4 / 10\n"
     ]
    },
    {
     "data": {
      "application/vnd.jupyter.widget-view+json": {
       "model_id": "a0a2345a8fef47b6b6be571f9f3f2d0c",
       "version_major": 2,
       "version_minor": 0
      },
      "text/plain": [
       "VBox(children=(HTML(value=''), IntProgress(value=0, max=30000)))"
      ]
     },
     "metadata": {},
     "output_type": "display_data"
    },
    {
     "name": "stdout",
     "output_type": "stream",
     "text": [
      "Epochs: 5 / 10\n"
     ]
    },
    {
     "data": {
      "application/vnd.jupyter.widget-view+json": {
       "model_id": "b76d9b1e429f4aae874f379a1ee0e78d",
       "version_major": 2,
       "version_minor": 0
      },
      "text/plain": [
       "VBox(children=(HTML(value=''), IntProgress(value=0, max=30000)))"
      ]
     },
     "metadata": {},
     "output_type": "display_data"
    },
    {
     "name": "stdout",
     "output_type": "stream",
     "text": [
      "Epochs: 6 / 10\n"
     ]
    },
    {
     "data": {
      "application/vnd.jupyter.widget-view+json": {
       "model_id": "140c119fab894620ab9b5df52c3cca70",
       "version_major": 2,
       "version_minor": 0
      },
      "text/plain": [
       "VBox(children=(HTML(value=''), IntProgress(value=0, max=30000)))"
      ]
     },
     "metadata": {},
     "output_type": "display_data"
    },
    {
     "name": "stdout",
     "output_type": "stream",
     "text": [
      "Epochs: 7 / 10\n"
     ]
    },
    {
     "data": {
      "application/vnd.jupyter.widget-view+json": {
       "model_id": "93b74078cdd54ae9a82d56643402d8e8",
       "version_major": 2,
       "version_minor": 0
      },
      "text/plain": [
       "VBox(children=(HTML(value=''), IntProgress(value=0, max=30000)))"
      ]
     },
     "metadata": {},
     "output_type": "display_data"
    },
    {
     "name": "stdout",
     "output_type": "stream",
     "text": [
      "Epochs: 8 / 10\n"
     ]
    },
    {
     "data": {
      "application/vnd.jupyter.widget-view+json": {
       "model_id": "7b8b0bd6e69e4e0b8b583eb29f9264db",
       "version_major": 2,
       "version_minor": 0
      },
      "text/plain": [
       "VBox(children=(HTML(value=''), IntProgress(value=0, max=30000)))"
      ]
     },
     "metadata": {},
     "output_type": "display_data"
    },
    {
     "name": "stdout",
     "output_type": "stream",
     "text": [
      "Epochs: 9 / 10\n"
     ]
    },
    {
     "data": {
      "application/vnd.jupyter.widget-view+json": {
       "model_id": "08a97dcff0934776a649ecb8a7308b25",
       "version_major": 2,
       "version_minor": 0
      },
      "text/plain": [
       "VBox(children=(HTML(value=''), IntProgress(value=0, max=30000)))"
      ]
     },
     "metadata": {},
     "output_type": "display_data"
    },
    {
     "name": "stdout",
     "output_type": "stream",
     "text": [
      "Epochs: 10 / 10\n"
     ]
    },
    {
     "data": {
      "application/vnd.jupyter.widget-view+json": {
       "model_id": "bfb46ac3026e483d8a30be0c94092d55",
       "version_major": 2,
       "version_minor": 0
      },
      "text/plain": [
       "VBox(children=(HTML(value=''), IntProgress(value=0, max=30000)))"
      ]
     },
     "metadata": {},
     "output_type": "display_data"
    },
    {
     "name": "stdout",
     "output_type": "stream",
     "text": [
      "\n",
      "Training class 6 of 10\n",
      "\n",
      "Epochs: 1 / 10\n"
     ]
    },
    {
     "data": {
      "application/vnd.jupyter.widget-view+json": {
       "model_id": "2ed6afe21fa04cb4998938f080afb5b9",
       "version_major": 2,
       "version_minor": 0
      },
      "text/plain": [
       "VBox(children=(HTML(value=''), IntProgress(value=0, max=30000)))"
      ]
     },
     "metadata": {},
     "output_type": "display_data"
    },
    {
     "name": "stdout",
     "output_type": "stream",
     "text": [
      "Epochs: 2 / 10\n"
     ]
    },
    {
     "data": {
      "application/vnd.jupyter.widget-view+json": {
       "model_id": "9de06ea6f6fb47739821d66c88012f13",
       "version_major": 2,
       "version_minor": 0
      },
      "text/plain": [
       "VBox(children=(HTML(value=''), IntProgress(value=0, max=30000)))"
      ]
     },
     "metadata": {},
     "output_type": "display_data"
    },
    {
     "name": "stdout",
     "output_type": "stream",
     "text": [
      "Epochs: 3 / 10\n"
     ]
    },
    {
     "data": {
      "application/vnd.jupyter.widget-view+json": {
       "model_id": "4bc8e02105784da18d2cdfbe5f940bff",
       "version_major": 2,
       "version_minor": 0
      },
      "text/plain": [
       "VBox(children=(HTML(value=''), IntProgress(value=0, max=30000)))"
      ]
     },
     "metadata": {},
     "output_type": "display_data"
    },
    {
     "name": "stdout",
     "output_type": "stream",
     "text": [
      "Epochs: 4 / 10\n"
     ]
    },
    {
     "data": {
      "application/vnd.jupyter.widget-view+json": {
       "model_id": "4be72b4858a74fa6818d802b41ba9947",
       "version_major": 2,
       "version_minor": 0
      },
      "text/plain": [
       "VBox(children=(HTML(value=''), IntProgress(value=0, max=30000)))"
      ]
     },
     "metadata": {},
     "output_type": "display_data"
    },
    {
     "name": "stdout",
     "output_type": "stream",
     "text": [
      "Epochs: 5 / 10\n"
     ]
    },
    {
     "data": {
      "application/vnd.jupyter.widget-view+json": {
       "model_id": "92601fe3de414aefb7675a1303bec338",
       "version_major": 2,
       "version_minor": 0
      },
      "text/plain": [
       "VBox(children=(HTML(value=''), IntProgress(value=0, max=30000)))"
      ]
     },
     "metadata": {},
     "output_type": "display_data"
    },
    {
     "name": "stdout",
     "output_type": "stream",
     "text": [
      "Epochs: 6 / 10\n"
     ]
    },
    {
     "data": {
      "application/vnd.jupyter.widget-view+json": {
       "model_id": "1caf99855c8b4eaa899867de8a59001e",
       "version_major": 2,
       "version_minor": 0
      },
      "text/plain": [
       "VBox(children=(HTML(value=''), IntProgress(value=0, max=30000)))"
      ]
     },
     "metadata": {},
     "output_type": "display_data"
    },
    {
     "name": "stdout",
     "output_type": "stream",
     "text": [
      "Epochs: 7 / 10\n"
     ]
    },
    {
     "data": {
      "application/vnd.jupyter.widget-view+json": {
       "model_id": "9fde62e1334840bc8d2f5322e4da9897",
       "version_major": 2,
       "version_minor": 0
      },
      "text/plain": [
       "VBox(children=(HTML(value=''), IntProgress(value=0, max=30000)))"
      ]
     },
     "metadata": {},
     "output_type": "display_data"
    },
    {
     "name": "stdout",
     "output_type": "stream",
     "text": [
      "Epochs: 8 / 10\n"
     ]
    },
    {
     "data": {
      "application/vnd.jupyter.widget-view+json": {
       "model_id": "3975c2768a904e31820493c27b8af675",
       "version_major": 2,
       "version_minor": 0
      },
      "text/plain": [
       "VBox(children=(HTML(value=''), IntProgress(value=0, max=30000)))"
      ]
     },
     "metadata": {},
     "output_type": "display_data"
    },
    {
     "name": "stdout",
     "output_type": "stream",
     "text": [
      "Epochs: 9 / 10\n"
     ]
    },
    {
     "data": {
      "application/vnd.jupyter.widget-view+json": {
       "model_id": "af1d7a25cb8c42bc8966b12d46698e03",
       "version_major": 2,
       "version_minor": 0
      },
      "text/plain": [
       "VBox(children=(HTML(value=''), IntProgress(value=0, max=30000)))"
      ]
     },
     "metadata": {},
     "output_type": "display_data"
    },
    {
     "name": "stdout",
     "output_type": "stream",
     "text": [
      "Epochs: 10 / 10\n"
     ]
    },
    {
     "data": {
      "application/vnd.jupyter.widget-view+json": {
       "model_id": "5318695ae35f433db2019cfe12651c31",
       "version_major": 2,
       "version_minor": 0
      },
      "text/plain": [
       "VBox(children=(HTML(value=''), IntProgress(value=0, max=30000)))"
      ]
     },
     "metadata": {},
     "output_type": "display_data"
    },
    {
     "name": "stdout",
     "output_type": "stream",
     "text": [
      "\n",
      "Training class 7 of 10\n",
      "\n",
      "Epochs: 1 / 10\n"
     ]
    },
    {
     "data": {
      "application/vnd.jupyter.widget-view+json": {
       "model_id": "0fbf4036ddf049fdada8655b4b9114fd",
       "version_major": 2,
       "version_minor": 0
      },
      "text/plain": [
       "VBox(children=(HTML(value=''), IntProgress(value=0, max=30000)))"
      ]
     },
     "metadata": {},
     "output_type": "display_data"
    },
    {
     "name": "stdout",
     "output_type": "stream",
     "text": [
      "Epochs: 2 / 10\n"
     ]
    },
    {
     "data": {
      "application/vnd.jupyter.widget-view+json": {
       "model_id": "2be807bc7390461fba5f26156935517f",
       "version_major": 2,
       "version_minor": 0
      },
      "text/plain": [
       "VBox(children=(HTML(value=''), IntProgress(value=0, max=30000)))"
      ]
     },
     "metadata": {},
     "output_type": "display_data"
    },
    {
     "name": "stdout",
     "output_type": "stream",
     "text": [
      "Epochs: 3 / 10\n"
     ]
    },
    {
     "data": {
      "application/vnd.jupyter.widget-view+json": {
       "model_id": "487c65ec2adb423f843292a01869e685",
       "version_major": 2,
       "version_minor": 0
      },
      "text/plain": [
       "VBox(children=(HTML(value=''), IntProgress(value=0, max=30000)))"
      ]
     },
     "metadata": {},
     "output_type": "display_data"
    },
    {
     "name": "stdout",
     "output_type": "stream",
     "text": [
      "Epochs: 4 / 10\n"
     ]
    },
    {
     "data": {
      "application/vnd.jupyter.widget-view+json": {
       "model_id": "eb78038a52954ddd9d3d7d6d48cc3ebd",
       "version_major": 2,
       "version_minor": 0
      },
      "text/plain": [
       "VBox(children=(HTML(value=''), IntProgress(value=0, max=30000)))"
      ]
     },
     "metadata": {},
     "output_type": "display_data"
    },
    {
     "name": "stdout",
     "output_type": "stream",
     "text": [
      "Epochs: 5 / 10\n"
     ]
    },
    {
     "data": {
      "application/vnd.jupyter.widget-view+json": {
       "model_id": "3c14fad1a6c643328841aeab5cfa6ed3",
       "version_major": 2,
       "version_minor": 0
      },
      "text/plain": [
       "VBox(children=(HTML(value=''), IntProgress(value=0, max=30000)))"
      ]
     },
     "metadata": {},
     "output_type": "display_data"
    },
    {
     "name": "stdout",
     "output_type": "stream",
     "text": [
      "Epochs: 6 / 10\n"
     ]
    },
    {
     "data": {
      "application/vnd.jupyter.widget-view+json": {
       "model_id": "b62048b147a044a4942444605d8b589f",
       "version_major": 2,
       "version_minor": 0
      },
      "text/plain": [
       "VBox(children=(HTML(value=''), IntProgress(value=0, max=30000)))"
      ]
     },
     "metadata": {},
     "output_type": "display_data"
    },
    {
     "name": "stdout",
     "output_type": "stream",
     "text": [
      "Epochs: 7 / 10\n"
     ]
    },
    {
     "data": {
      "application/vnd.jupyter.widget-view+json": {
       "model_id": "358a39e93ff24c0a9418c17d42fb56f6",
       "version_major": 2,
       "version_minor": 0
      },
      "text/plain": [
       "VBox(children=(HTML(value=''), IntProgress(value=0, max=30000)))"
      ]
     },
     "metadata": {},
     "output_type": "display_data"
    },
    {
     "name": "stdout",
     "output_type": "stream",
     "text": [
      "Epochs: 8 / 10\n"
     ]
    },
    {
     "data": {
      "application/vnd.jupyter.widget-view+json": {
       "model_id": "cc9416de0cbb4d498e8370d47bca8663",
       "version_major": 2,
       "version_minor": 0
      },
      "text/plain": [
       "VBox(children=(HTML(value=''), IntProgress(value=0, max=30000)))"
      ]
     },
     "metadata": {},
     "output_type": "display_data"
    },
    {
     "name": "stdout",
     "output_type": "stream",
     "text": [
      "Epochs: 9 / 10\n"
     ]
    },
    {
     "data": {
      "application/vnd.jupyter.widget-view+json": {
       "model_id": "77faf94eb59044ca86ff0fb7688cb1fa",
       "version_major": 2,
       "version_minor": 0
      },
      "text/plain": [
       "VBox(children=(HTML(value=''), IntProgress(value=0, max=30000)))"
      ]
     },
     "metadata": {},
     "output_type": "display_data"
    },
    {
     "name": "stdout",
     "output_type": "stream",
     "text": [
      "Epochs: 10 / 10\n"
     ]
    },
    {
     "data": {
      "application/vnd.jupyter.widget-view+json": {
       "model_id": "5bf2833c43f844e18af7169069f185c2",
       "version_major": 2,
       "version_minor": 0
      },
      "text/plain": [
       "VBox(children=(HTML(value=''), IntProgress(value=0, max=30000)))"
      ]
     },
     "metadata": {},
     "output_type": "display_data"
    },
    {
     "name": "stdout",
     "output_type": "stream",
     "text": [
      "\n",
      "Training class 8 of 10\n",
      "\n",
      "Epochs: 1 / 10\n"
     ]
    },
    {
     "data": {
      "application/vnd.jupyter.widget-view+json": {
       "model_id": "a98c71bd70444f64930e8adf1267a808",
       "version_major": 2,
       "version_minor": 0
      },
      "text/plain": [
       "VBox(children=(HTML(value=''), IntProgress(value=0, max=30000)))"
      ]
     },
     "metadata": {},
     "output_type": "display_data"
    },
    {
     "name": "stdout",
     "output_type": "stream",
     "text": [
      "Epochs: 2 / 10\n"
     ]
    },
    {
     "data": {
      "application/vnd.jupyter.widget-view+json": {
       "model_id": "51085e1785c14394b5e1c775585dad8c",
       "version_major": 2,
       "version_minor": 0
      },
      "text/plain": [
       "VBox(children=(HTML(value=''), IntProgress(value=0, max=30000)))"
      ]
     },
     "metadata": {},
     "output_type": "display_data"
    },
    {
     "name": "stdout",
     "output_type": "stream",
     "text": [
      "Epochs: 3 / 10\n"
     ]
    },
    {
     "data": {
      "application/vnd.jupyter.widget-view+json": {
       "model_id": "7ba74604913c415fb355d495475761dd",
       "version_major": 2,
       "version_minor": 0
      },
      "text/plain": [
       "VBox(children=(HTML(value=''), IntProgress(value=0, max=30000)))"
      ]
     },
     "metadata": {},
     "output_type": "display_data"
    },
    {
     "name": "stdout",
     "output_type": "stream",
     "text": [
      "Epochs: 4 / 10\n"
     ]
    },
    {
     "data": {
      "application/vnd.jupyter.widget-view+json": {
       "model_id": "cc1e3ad049ae4894a36954a469a5b646",
       "version_major": 2,
       "version_minor": 0
      },
      "text/plain": [
       "VBox(children=(HTML(value=''), IntProgress(value=0, max=30000)))"
      ]
     },
     "metadata": {},
     "output_type": "display_data"
    },
    {
     "name": "stdout",
     "output_type": "stream",
     "text": [
      "Epochs: 5 / 10\n"
     ]
    },
    {
     "data": {
      "application/vnd.jupyter.widget-view+json": {
       "model_id": "41d264af12dd4e329db78eeb9d50e5aa",
       "version_major": 2,
       "version_minor": 0
      },
      "text/plain": [
       "VBox(children=(HTML(value=''), IntProgress(value=0, max=30000)))"
      ]
     },
     "metadata": {},
     "output_type": "display_data"
    },
    {
     "name": "stdout",
     "output_type": "stream",
     "text": [
      "Epochs: 6 / 10\n"
     ]
    },
    {
     "data": {
      "application/vnd.jupyter.widget-view+json": {
       "model_id": "acadba3d5a6d4f599782896d0b4d11e0",
       "version_major": 2,
       "version_minor": 0
      },
      "text/plain": [
       "VBox(children=(HTML(value=''), IntProgress(value=0, max=30000)))"
      ]
     },
     "metadata": {},
     "output_type": "display_data"
    },
    {
     "name": "stdout",
     "output_type": "stream",
     "text": [
      "Epochs: 7 / 10\n"
     ]
    },
    {
     "data": {
      "application/vnd.jupyter.widget-view+json": {
       "model_id": "2fd6613896164eed8bb06cf606909831",
       "version_major": 2,
       "version_minor": 0
      },
      "text/plain": [
       "VBox(children=(HTML(value=''), IntProgress(value=0, max=30000)))"
      ]
     },
     "metadata": {},
     "output_type": "display_data"
    },
    {
     "name": "stdout",
     "output_type": "stream",
     "text": [
      "Epochs: 8 / 10\n"
     ]
    },
    {
     "data": {
      "application/vnd.jupyter.widget-view+json": {
       "model_id": "eeaecc1bbc8b47728de90f498edcc6d3",
       "version_major": 2,
       "version_minor": 0
      },
      "text/plain": [
       "VBox(children=(HTML(value=''), IntProgress(value=0, max=30000)))"
      ]
     },
     "metadata": {},
     "output_type": "display_data"
    },
    {
     "name": "stdout",
     "output_type": "stream",
     "text": [
      "Epochs: 9 / 10\n"
     ]
    },
    {
     "data": {
      "application/vnd.jupyter.widget-view+json": {
       "model_id": "109ce35ce94e4ea3ac1d954d56976b5b",
       "version_major": 2,
       "version_minor": 0
      },
      "text/plain": [
       "VBox(children=(HTML(value=''), IntProgress(value=0, max=30000)))"
      ]
     },
     "metadata": {},
     "output_type": "display_data"
    },
    {
     "name": "stdout",
     "output_type": "stream",
     "text": [
      "Epochs: 10 / 10\n"
     ]
    },
    {
     "data": {
      "application/vnd.jupyter.widget-view+json": {
       "model_id": "a73f81b409754d29ab28830938b501c7",
       "version_major": 2,
       "version_minor": 0
      },
      "text/plain": [
       "VBox(children=(HTML(value=''), IntProgress(value=0, max=30000)))"
      ]
     },
     "metadata": {},
     "output_type": "display_data"
    },
    {
     "name": "stdout",
     "output_type": "stream",
     "text": [
      "\n",
      "Training class 9 of 10\n",
      "\n",
      "Epochs: 1 / 10\n"
     ]
    },
    {
     "data": {
      "application/vnd.jupyter.widget-view+json": {
       "model_id": "c7143b1e38924ee5b2b02bd777be9b37",
       "version_major": 2,
       "version_minor": 0
      },
      "text/plain": [
       "VBox(children=(HTML(value=''), IntProgress(value=0, max=30000)))"
      ]
     },
     "metadata": {},
     "output_type": "display_data"
    },
    {
     "name": "stdout",
     "output_type": "stream",
     "text": [
      "Epochs: 2 / 10\n"
     ]
    },
    {
     "data": {
      "application/vnd.jupyter.widget-view+json": {
       "model_id": "e218a06c2d88465fa2e1549b4c1efb51",
       "version_major": 2,
       "version_minor": 0
      },
      "text/plain": [
       "VBox(children=(HTML(value=''), IntProgress(value=0, max=30000)))"
      ]
     },
     "metadata": {},
     "output_type": "display_data"
    },
    {
     "name": "stdout",
     "output_type": "stream",
     "text": [
      "Epochs: 3 / 10\n"
     ]
    },
    {
     "data": {
      "application/vnd.jupyter.widget-view+json": {
       "model_id": "13c4f4be360848b7a805bca798278299",
       "version_major": 2,
       "version_minor": 0
      },
      "text/plain": [
       "VBox(children=(HTML(value=''), IntProgress(value=0, max=30000)))"
      ]
     },
     "metadata": {},
     "output_type": "display_data"
    },
    {
     "name": "stdout",
     "output_type": "stream",
     "text": [
      "Epochs: 4 / 10\n"
     ]
    },
    {
     "data": {
      "application/vnd.jupyter.widget-view+json": {
       "model_id": "280d9f0e910741efb1cb1d64cdc8d83b",
       "version_major": 2,
       "version_minor": 0
      },
      "text/plain": [
       "VBox(children=(HTML(value=''), IntProgress(value=0, max=30000)))"
      ]
     },
     "metadata": {},
     "output_type": "display_data"
    },
    {
     "name": "stdout",
     "output_type": "stream",
     "text": [
      "Epochs: 5 / 10\n"
     ]
    },
    {
     "data": {
      "application/vnd.jupyter.widget-view+json": {
       "model_id": "ff9ec25a4a5648eea956317b3a4296f8",
       "version_major": 2,
       "version_minor": 0
      },
      "text/plain": [
       "VBox(children=(HTML(value=''), IntProgress(value=0, max=30000)))"
      ]
     },
     "metadata": {},
     "output_type": "display_data"
    },
    {
     "name": "stdout",
     "output_type": "stream",
     "text": [
      "Epochs: 6 / 10\n"
     ]
    },
    {
     "data": {
      "application/vnd.jupyter.widget-view+json": {
       "model_id": "fdc0f812378c4403bcad7b92a46cfed6",
       "version_major": 2,
       "version_minor": 0
      },
      "text/plain": [
       "VBox(children=(HTML(value=''), IntProgress(value=0, max=30000)))"
      ]
     },
     "metadata": {},
     "output_type": "display_data"
    },
    {
     "name": "stdout",
     "output_type": "stream",
     "text": [
      "Epochs: 7 / 10\n"
     ]
    },
    {
     "data": {
      "application/vnd.jupyter.widget-view+json": {
       "model_id": "ec91e7ce74ef4c959fcd0c5d9fd38e65",
       "version_major": 2,
       "version_minor": 0
      },
      "text/plain": [
       "VBox(children=(HTML(value=''), IntProgress(value=0, max=30000)))"
      ]
     },
     "metadata": {},
     "output_type": "display_data"
    },
    {
     "name": "stdout",
     "output_type": "stream",
     "text": [
      "Epochs: 8 / 10\n"
     ]
    },
    {
     "data": {
      "application/vnd.jupyter.widget-view+json": {
       "model_id": "1fc9113686844bdcbf54ccea7cc9012b",
       "version_major": 2,
       "version_minor": 0
      },
      "text/plain": [
       "VBox(children=(HTML(value=''), IntProgress(value=0, max=30000)))"
      ]
     },
     "metadata": {},
     "output_type": "display_data"
    },
    {
     "name": "stdout",
     "output_type": "stream",
     "text": [
      "Epochs: 9 / 10\n"
     ]
    },
    {
     "data": {
      "application/vnd.jupyter.widget-view+json": {
       "model_id": "711d2a95a36a4d80bd8ae3e0ab1b5c73",
       "version_major": 2,
       "version_minor": 0
      },
      "text/plain": [
       "VBox(children=(HTML(value=''), IntProgress(value=0, max=30000)))"
      ]
     },
     "metadata": {},
     "output_type": "display_data"
    },
    {
     "name": "stdout",
     "output_type": "stream",
     "text": [
      "Epochs: 10 / 10\n"
     ]
    },
    {
     "data": {
      "application/vnd.jupyter.widget-view+json": {
       "model_id": "da17ab84ba1c4684bbaf30dcc221dff7",
       "version_major": 2,
       "version_minor": 0
      },
      "text/plain": [
       "VBox(children=(HTML(value=''), IntProgress(value=0, max=30000)))"
      ]
     },
     "metadata": {},
     "output_type": "display_data"
    },
    {
     "name": "stdout",
     "output_type": "stream",
     "text": [
      "\n",
      "Training class 10 of 10\n",
      "\n",
      "Epochs: 1 / 10\n"
     ]
    },
    {
     "data": {
      "application/vnd.jupyter.widget-view+json": {
       "model_id": "840575b8891c4ad19888e3898369ab90",
       "version_major": 2,
       "version_minor": 0
      },
      "text/plain": [
       "VBox(children=(HTML(value=''), IntProgress(value=0, max=30000)))"
      ]
     },
     "metadata": {},
     "output_type": "display_data"
    },
    {
     "name": "stdout",
     "output_type": "stream",
     "text": [
      "Epochs: 2 / 10\n"
     ]
    },
    {
     "data": {
      "application/vnd.jupyter.widget-view+json": {
       "model_id": "ac673ec1734a4799976b56738485c94e",
       "version_major": 2,
       "version_minor": 0
      },
      "text/plain": [
       "VBox(children=(HTML(value=''), IntProgress(value=0, max=30000)))"
      ]
     },
     "metadata": {},
     "output_type": "display_data"
    },
    {
     "name": "stdout",
     "output_type": "stream",
     "text": [
      "Epochs: 3 / 10\n"
     ]
    },
    {
     "data": {
      "application/vnd.jupyter.widget-view+json": {
       "model_id": "515daf17169a47ec9eea7b3beebf7a5d",
       "version_major": 2,
       "version_minor": 0
      },
      "text/plain": [
       "VBox(children=(HTML(value=''), IntProgress(value=0, max=30000)))"
      ]
     },
     "metadata": {},
     "output_type": "display_data"
    },
    {
     "name": "stdout",
     "output_type": "stream",
     "text": [
      "Epochs: 4 / 10\n"
     ]
    },
    {
     "data": {
      "application/vnd.jupyter.widget-view+json": {
       "model_id": "3c672af58c654c6dbb73f24988bc4c10",
       "version_major": 2,
       "version_minor": 0
      },
      "text/plain": [
       "VBox(children=(HTML(value=''), IntProgress(value=0, max=30000)))"
      ]
     },
     "metadata": {},
     "output_type": "display_data"
    },
    {
     "name": "stdout",
     "output_type": "stream",
     "text": [
      "Epochs: 5 / 10\n"
     ]
    },
    {
     "data": {
      "application/vnd.jupyter.widget-view+json": {
       "model_id": "e293ff6aeccc43d594af9ed04e2427cd",
       "version_major": 2,
       "version_minor": 0
      },
      "text/plain": [
       "VBox(children=(HTML(value=''), IntProgress(value=0, max=30000)))"
      ]
     },
     "metadata": {},
     "output_type": "display_data"
    },
    {
     "name": "stdout",
     "output_type": "stream",
     "text": [
      "Epochs: 6 / 10\n"
     ]
    },
    {
     "data": {
      "application/vnd.jupyter.widget-view+json": {
       "model_id": "4c7be705527340c8bfe2527ba395febd",
       "version_major": 2,
       "version_minor": 0
      },
      "text/plain": [
       "VBox(children=(HTML(value=''), IntProgress(value=0, max=30000)))"
      ]
     },
     "metadata": {},
     "output_type": "display_data"
    },
    {
     "name": "stdout",
     "output_type": "stream",
     "text": [
      "Epochs: 7 / 10\n"
     ]
    },
    {
     "data": {
      "application/vnd.jupyter.widget-view+json": {
       "model_id": "24e27a89f02c4752a440ce6d60414ce3",
       "version_major": 2,
       "version_minor": 0
      },
      "text/plain": [
       "VBox(children=(HTML(value=''), IntProgress(value=0, max=30000)))"
      ]
     },
     "metadata": {},
     "output_type": "display_data"
    },
    {
     "name": "stdout",
     "output_type": "stream",
     "text": [
      "Epochs: 8 / 10\n"
     ]
    },
    {
     "data": {
      "application/vnd.jupyter.widget-view+json": {
       "model_id": "97bffc3ef5744645b9c470a251ddc762",
       "version_major": 2,
       "version_minor": 0
      },
      "text/plain": [
       "VBox(children=(HTML(value=''), IntProgress(value=0, max=30000)))"
      ]
     },
     "metadata": {},
     "output_type": "display_data"
    },
    {
     "name": "stdout",
     "output_type": "stream",
     "text": [
      "Epochs: 9 / 10\n"
     ]
    },
    {
     "data": {
      "application/vnd.jupyter.widget-view+json": {
       "model_id": "b0c9a16776794c2283ab96896d0e8854",
       "version_major": 2,
       "version_minor": 0
      },
      "text/plain": [
       "VBox(children=(HTML(value=''), IntProgress(value=0, max=30000)))"
      ]
     },
     "metadata": {},
     "output_type": "display_data"
    },
    {
     "name": "stdout",
     "output_type": "stream",
     "text": [
      "Epochs: 10 / 10\n"
     ]
    },
    {
     "data": {
      "application/vnd.jupyter.widget-view+json": {
       "model_id": "88b950cffa4542ddafcb61565b651ac7",
       "version_major": 2,
       "version_minor": 0
      },
      "text/plain": [
       "VBox(children=(HTML(value=''), IntProgress(value=0, max=30000)))"
      ]
     },
     "metadata": {},
     "output_type": "display_data"
    }
   ],
   "source": [
    "#######################################\n",
    "#######                         #######\n",
    "#######   Logistic Regression   #######\n",
    "#######                         #######  \n",
    "#######################################\n",
    "\n",
    "logistic_model = LRM.Model(data_train, target_train, epochs=10, alpha=0.01, batch_size=1)\n",
    "logistic_model.Fit()\n",
    "logistic_y_pred = logistic_model.Predict(data_val, target_val)"
   ]
  },
  {
   "cell_type": "code",
   "execution_count": 4,
   "metadata": {},
   "outputs": [
    {
     "name": "stdout",
     "output_type": "stream",
     "text": [
      "[[2512   13   35  132   48    2  183    2   36    0]\n",
      " [  16 2869   15   75   11    0    9    0    2    1]\n",
      " [ 111    4 1827   35  855    1  148    0   27    0]\n",
      " [ 124   27    8 2572  168    0   70    0   17    1]\n",
      " [  19    3  109  102 2759    0   97    0   11    0]\n",
      " [   4    3    3    6    3 2588    2  207   59  143]\n",
      " [ 590   11  224   98  716    1 1252    3   66    1]\n",
      " [   0    0    1    0    0   59    0 2772    8  104]\n",
      " [  28    1   11   38   42   16   31   17 2822    1]\n",
      " [   0    0    0    0    0   32    0  122    6 2853]]\n",
      "             precision    recall  f1-score   support\n",
      "\n",
      "          0       0.74      0.85      0.79      2963\n",
      "          1       0.98      0.96      0.97      2998\n",
      "          2       0.82      0.61      0.70      3008\n",
      "          3       0.84      0.86      0.85      2987\n",
      "          4       0.60      0.89      0.72      3100\n",
      "          5       0.96      0.86      0.91      3018\n",
      "          6       0.70      0.42      0.53      2962\n",
      "          7       0.89      0.94      0.91      2944\n",
      "          8       0.92      0.94      0.93      3007\n",
      "          9       0.92      0.95      0.93      3013\n",
      "\n",
      "avg / total       0.84      0.83      0.82     30000\n",
      "\n"
     ]
    }
   ],
   "source": [
    "print(confusion_matrix(target_val, logistic_y_pred))\n",
    "print(classification_report(target_val, logistic_y_pred))"
   ]
  },
  {
   "cell_type": "code",
   "execution_count": 4,
   "metadata": {},
   "outputs": [
    {
     "name": "stderr",
     "output_type": "stream",
     "text": [
      "Epochs: 1 / 10: 100%|██████████| 30000/30000 [00:05<00:00, 5802.87it/s]\n",
      "Epochs: 2 / 10: 100%|██████████| 30000/30000 [00:05<00:00, 5894.39it/s]\n",
      "Epochs: 3 / 10: 100%|██████████| 30000/30000 [00:05<00:00, 5834.10it/s]\n",
      "Epochs: 4 / 10: 100%|██████████| 30000/30000 [00:05<00:00, 5909.70it/s]\n",
      "Epochs: 5 / 10: 100%|██████████| 30000/30000 [00:05<00:00, 5901.55it/s]\n",
      "Epochs: 6 / 10: 100%|██████████| 30000/30000 [00:05<00:00, 5715.85it/s]\n",
      "Epochs: 7 / 10: 100%|██████████| 30000/30000 [00:05<00:00, 5731.25it/s]\n",
      "Epochs: 8 / 10: 100%|██████████| 30000/30000 [00:05<00:00, 5854.99it/s]\n",
      "Epochs: 9 / 10: 100%|██████████| 30000/30000 [00:05<00:00, 5807.96it/s]\n",
      "Epochs: 10 / 10: 100%|██████████| 30000/30000 [00:05<00:00, 5881.37it/s]\n"
     ]
    }
   ],
   "source": [
    "#######################################\n",
    "#######                         #######\n",
    "#######   Softmax Regression    #######\n",
    "#######                         #######  \n",
    "#######################################\n",
    "\n",
    "softmax_model = SRM.Model(data_train, target_train, epochs=10, alpha=0.001, batch_size=1)\n",
    "softmax_model.Fit()\n",
    "softmax_y_pred = softmax_model.Predict(data_val, target_val)"
   ]
  },
  {
   "cell_type": "code",
   "execution_count": 5,
   "metadata": {},
   "outputs": [
    {
     "name": "stdout",
     "output_type": "stream",
     "text": [
      "[[1020   53  300  986  218    6  224   58   53   45]\n",
      " [  59 1423   38  339  523    9  259  223  116    9]\n",
      " [ 254   97 1235   47  496   53  519    6  170  131]\n",
      " [ 487  707  163  972  255    4  314    8   75    2]\n",
      " [ 238  312  449  137 1069   62  492    6  197  138]\n",
      " [ 106  127  212   77   64  504  328  517  599  484]\n",
      " [ 741   70  541  255  558   46  534   20  122   75]\n",
      " [   8   53   50   13    5   64   17 2109  291  334]\n",
      " [  97   73  398   77  253   79  217   72 1406  335]\n",
      " [  12   93   45    0   26  494  173  188  406 1576]]\n",
      "             precision    recall  f1-score   support\n",
      "\n",
      "          0       0.34      0.34      0.34      2963\n",
      "          1       0.47      0.47      0.47      2998\n",
      "          2       0.36      0.41      0.38      3008\n",
      "          3       0.33      0.33      0.33      2987\n",
      "          4       0.31      0.34      0.33      3100\n",
      "          5       0.38      0.17      0.23      3018\n",
      "          6       0.17      0.18      0.18      2962\n",
      "          7       0.66      0.72      0.69      2944\n",
      "          8       0.41      0.47      0.44      3007\n",
      "          9       0.50      0.52      0.51      3013\n",
      "\n",
      "avg / total       0.39      0.39      0.39     30000\n",
      "\n"
     ]
    }
   ],
   "source": [
    "print(confusion_matrix(target_val, softmax_y_pred))\n",
    "print(classification_report(target_val, softmax_y_pred))"
   ]
  },
  {
   "cell_type": "code",
   "execution_count": 6,
   "metadata": {},
   "outputs": [
    {
     "name": "stderr",
     "output_type": "stream",
     "text": [
      "Epochs: 1 / 1:   0%|          | 0/30000 [00:00<?, ?it/s]/home/matheusmortatti/git/Machine-Learning-Class/Assignment02/NeuralNetworkModel.py:186: ComplexWarning: Casting complex values to real discards the imaginary part\n",
      "  self.D[k][i,:] = (a*err[i])[:,0]\n",
      "/home/matheusmortatti/git/Machine-Learning-Class/Assignment02/NeuralNetworkModel.py:187: ComplexWarning: Casting complex values to real discards the imaginary part\n",
      "  self.bD[k][i] = err[i]\n",
      "Epochs: 1 / 1: 100%|██████████| 30000/30000 [1:14:06<00:00,  6.90it/s]\n"
     ]
    },
    {
     "name": "stdout",
     "output_type": "stream",
     "text": [
      "[[1606   15   32  164   13    5 1086    0   42    0]\n",
      " [   8 2858   22   78    7    0   21    0    4    0]\n",
      " [  37    4 1856   20  527    4  548    1   11    0]\n",
      " [  79   64   20 2328  194    3  278    0   21    0]\n",
      " [  10   12  236   95 2354    1  381    0   11    0]\n",
      " [   5    0    1    4    2 2765   10  120   26   85]\n",
      " [ 301    5  228   76  343    1 1972    1   34    1]\n",
      " [   1    0    1    1    0  161    1 2568    7  204]\n",
      " [  48    4   59   11   23   28  158   17 2658    1]\n",
      " [   1    0    0    0    1   53    1   78    2 2877]]\n",
      "             precision    recall  f1-score   support\n",
      "\n",
      "          0       0.77      0.54      0.63      2963\n",
      "          1       0.96      0.95      0.96      2998\n",
      "          2       0.76      0.62      0.68      3008\n",
      "          3       0.84      0.78      0.81      2987\n",
      "          4       0.68      0.76      0.72      3100\n",
      "          5       0.92      0.92      0.92      3018\n",
      "          6       0.44      0.67      0.53      2962\n",
      "          7       0.92      0.87      0.90      2944\n",
      "          8       0.94      0.88      0.91      3007\n",
      "          9       0.91      0.95      0.93      3013\n",
      "\n",
      "avg / total       0.81      0.79      0.80     30000\n",
      "\n"
     ]
    },
    {
     "name": "stderr",
     "output_type": "stream",
     "text": [
      "Epochs: 1 / 1: 100%|██████████| 30000/30000 [1:13:27<00:00,  6.86it/s]\n"
     ]
    },
    {
     "name": "stdout",
     "output_type": "stream",
     "text": [
      "[[2500   16   89  135   11    7  159    0   46    0]\n",
      " [  19 2860   15   82    8    0    8    0    6    0]\n",
      " [  50    5 2354   22  387    4  164    0   22    0]\n",
      " [ 173   32   37 2434  196    1   87    0   27    0]\n",
      " [  15    9  344   80 2331    1  300    0   20    0]\n",
      " [   2    1    1    4    2 2826    4  101   17   60]\n",
      " [ 703    7  481   78  282    3 1348    0   59    1]\n",
      " [   0    0    0    1    0  171    1 2604   11  156]\n",
      " [  35    3   54   11   20   23   56   12 2791    2]\n",
      " [   1    0    1    0    0   55    0  106    2 2848]]\n",
      "             precision    recall  f1-score   support\n",
      "\n",
      "          0       0.71      0.84      0.77      2963\n",
      "          1       0.98      0.95      0.96      2998\n",
      "          2       0.70      0.78      0.74      3008\n",
      "          3       0.85      0.81      0.83      2987\n",
      "          4       0.72      0.75      0.74      3100\n",
      "          5       0.91      0.94      0.93      3018\n",
      "          6       0.63      0.46      0.53      2962\n",
      "          7       0.92      0.88      0.90      2944\n",
      "          8       0.93      0.93      0.93      3007\n",
      "          9       0.93      0.95      0.94      3013\n",
      "\n",
      "avg / total       0.83      0.83      0.83     30000\n",
      "\n"
     ]
    },
    {
     "name": "stderr",
     "output_type": "stream",
     "text": [
      "Epochs: 1 / 1: 100%|██████████| 30000/30000 [1:13:25<00:00,  6.84it/s]\n"
     ]
    },
    {
     "name": "stdout",
     "output_type": "stream",
     "text": [
      "[[2313   20   54  198   16    5  308    0   49    0]\n",
      " [   9 2895   10   69    4    0    7    0    4    0]\n",
      " [  47    9 2260   42  390    2  241    0   17    0]\n",
      " [  87   45   26 2601  116    1   86    0   25    0]\n",
      " [  10   13  291  149 2361    0  256    0   20    0]\n",
      " [   2    1    1    5    2 2789    3  117   26   72]\n",
      " [ 504   13  319  121  306    2 1652    1   43    1]\n",
      " [   0    0    0    1    0  138    0 2667   10  128]\n",
      " [  30    5   37   14   24   18   85   13 2779    2]\n",
      " [   1    0    0    1    1   35    0  117    2 2856]]\n",
      "             precision    recall  f1-score   support\n",
      "\n",
      "          0       0.77      0.78      0.78      2963\n",
      "          1       0.96      0.97      0.97      2998\n",
      "          2       0.75      0.75      0.75      3008\n",
      "          3       0.81      0.87      0.84      2987\n",
      "          4       0.73      0.76      0.75      3100\n",
      "          5       0.93      0.92      0.93      3018\n",
      "          6       0.63      0.56      0.59      2962\n",
      "          7       0.91      0.91      0.91      2944\n",
      "          8       0.93      0.92      0.93      3007\n",
      "          9       0.93      0.95      0.94      3013\n",
      "\n",
      "avg / total       0.84      0.84      0.84     30000\n",
      "\n"
     ]
    },
    {
     "name": "stderr",
     "output_type": "stream",
     "text": [
      "Epochs: 1 / 1: 100%|██████████| 30000/30000 [1:13:46<00:00,  6.82it/s]\n"
     ]
    },
    {
     "name": "stdout",
     "output_type": "stream",
     "text": [
      "[[2330   24   53  170   15    5  312    0   54    0]\n",
      " [  10 2911    9   52    4    0    9    0    3    0]\n",
      " [  47    7 2210   46  415    3  261    0   19    0]\n",
      " [  98   71   30 2567  118    1   77    0   25    0]\n",
      " [  10   16  250  144 2406    0  253    0   21    0]\n",
      " [   4    0    1    3    2 2832    3  102   24   47]\n",
      " [ 505   12  278  116  311    1 1688    0   49    2]\n",
      " [   0    0    0    1    0  160    0 2678    9   96]\n",
      " [  25    5   30   13   18   20   73   11 2811    1]\n",
      " [   1    0    0    1    1   55    0  142    2 2811]]\n",
      "             precision    recall  f1-score   support\n",
      "\n",
      "          0       0.77      0.79      0.78      2963\n",
      "          1       0.96      0.97      0.96      2998\n",
      "          2       0.77      0.73      0.75      3008\n",
      "          3       0.82      0.86      0.84      2987\n",
      "          4       0.73      0.78      0.75      3100\n",
      "          5       0.92      0.94      0.93      3018\n",
      "          6       0.63      0.57      0.60      2962\n",
      "          7       0.91      0.91      0.91      2944\n",
      "          8       0.93      0.93      0.93      3007\n",
      "          9       0.95      0.93      0.94      3013\n",
      "\n",
      "avg / total       0.84      0.84      0.84     30000\n",
      "\n"
     ]
    },
    {
     "name": "stderr",
     "output_type": "stream",
     "text": [
      "Epochs: 1 / 1: 100%|██████████| 30000/30000 [1:13:08<00:00,  6.84it/s]\n"
     ]
    },
    {
     "name": "stdout",
     "output_type": "stream",
     "text": [
      "[[2202   18   50  149   14    5  472    0   53    0]\n",
      " [  13 2888   10   72    2    0   10    0    3    0]\n",
      " [  46    6 2239   35  374    3  284    0   21    0]\n",
      " [ 102   40   26 2550  139    1  104    0   25    0]\n",
      " [  10    6  289  105 2401    0  269    0   20    0]\n",
      " [   5    1    1    5    2 2804    3  111   28   58]\n",
      " [ 397    6  285   91  290    0 1842    1   49    1]\n",
      " [   0    0    0    1    0  134    0 2672    8  129]\n",
      " [  23    4   34   12   20   17   68   13 2815    1]\n",
      " [   1    0    0    1    1   43    0  106    2 2859]]\n",
      "             precision    recall  f1-score   support\n",
      "\n",
      "          0       0.79      0.74      0.76      2963\n",
      "          1       0.97      0.96      0.97      2998\n",
      "          2       0.76      0.74      0.75      3008\n",
      "          3       0.84      0.85      0.85      2987\n",
      "          4       0.74      0.77      0.76      3100\n",
      "          5       0.93      0.93      0.93      3018\n",
      "          6       0.60      0.62      0.61      2962\n",
      "          7       0.92      0.91      0.91      2944\n",
      "          8       0.93      0.94      0.93      3007\n",
      "          9       0.94      0.95      0.94      3013\n",
      "\n",
      "avg / total       0.84      0.84      0.84     30000\n",
      "\n"
     ]
    },
    {
     "name": "stderr",
     "output_type": "stream",
     "text": [
      "Epochs: 1 / 1: 100%|██████████| 30000/30000 [1:13:30<00:00,  6.87it/s]\n"
     ]
    },
    {
     "name": "stdout",
     "output_type": "stream",
     "text": [
      "[[2319   18   52  120   11    5  383    0   55    0]\n",
      " [  16 2892   12   64    2    0    8    0    4    0]\n",
      " [  50    6 2314   34  300    3  277    0   24    0]\n",
      " [ 135   43   28 2512  141    1  100    0   27    0]\n",
      " [  13    7  377   98 2291    0  292    0   22    0]\n",
      " [   4    1    1    5    2 2804    3  120   27   51]\n",
      " [ 458    6  310   88  249    0 1801    1   48    1]\n",
      " [   0    0    0    1    0  123    0 2707    9  104]\n",
      " [  21    3   32   11   19   17   73   13 2817    1]\n",
      " [   1    0    0    1    1   48    0  140    2 2820]]\n",
      "             precision    recall  f1-score   support\n",
      "\n",
      "          0       0.77      0.78      0.78      2963\n",
      "          1       0.97      0.96      0.97      2998\n",
      "          2       0.74      0.77      0.75      3008\n",
      "          3       0.86      0.84      0.85      2987\n",
      "          4       0.76      0.74      0.75      3100\n",
      "          5       0.93      0.93      0.93      3018\n",
      "          6       0.61      0.61      0.61      2962\n",
      "          7       0.91      0.92      0.91      2944\n",
      "          8       0.93      0.94      0.93      3007\n",
      "          9       0.95      0.94      0.94      3013\n",
      "\n",
      "avg / total       0.84      0.84      0.84     30000\n",
      "\n"
     ]
    },
    {
     "name": "stderr",
     "output_type": "stream",
     "text": [
      "Epochs: 1 / 1: 100%|██████████| 30000/30000 [1:13:05<00:00,  6.83it/s]\n"
     ]
    },
    {
     "name": "stdout",
     "output_type": "stream",
     "text": [
      "[[2341   19   57  132   15    5  342    0   52    0]\n",
      " [  15 2895   12   64    2    0    7    0    3    0]\n",
      " [  53    7 2320   36  347    3  221    0   21    0]\n",
      " [ 131   43   28 2539  129    1   90    0   26    0]\n",
      " [  12    6  322  113 2376    0  246    0   25    0]\n",
      " [   5    1    1    5    2 2807    3  115   27   52]\n",
      " [ 466    6  340   92  278    0 1733    1   45    1]\n",
      " [   0    0    0    1    0  130    0 2690   10  113]\n",
      " [  21    3   40   13   22   18   62   12 2815    1]\n",
      " [   1    0    0    1    1   46    0  131    2 2831]]\n",
      "             precision    recall  f1-score   support\n",
      "\n",
      "          0       0.77      0.79      0.78      2963\n",
      "          1       0.97      0.97      0.97      2998\n",
      "          2       0.74      0.77      0.76      3008\n",
      "          3       0.85      0.85      0.85      2987\n",
      "          4       0.75      0.77      0.76      3100\n",
      "          5       0.93      0.93      0.93      3018\n",
      "          6       0.64      0.59      0.61      2962\n",
      "          7       0.91      0.91      0.91      2944\n",
      "          8       0.93      0.94      0.93      3007\n",
      "          9       0.94      0.94      0.94      3013\n",
      "\n",
      "avg / total       0.84      0.84      0.84     30000\n",
      "\n"
     ]
    },
    {
     "name": "stderr",
     "output_type": "stream",
     "text": [
      "Epochs: 1 / 1: 100%|██████████| 30000/30000 [1:13:24<00:00,  6.90it/s]\n"
     ]
    },
    {
     "name": "stdout",
     "output_type": "stream",
     "text": [
      "[[2387   20   53  126   13    5  308    0   51    0]\n",
      " [  15 2897   12   62    2    0    8    0    2    0]\n",
      " [  57    7 2281   37  355    3  245    0   23    0]\n",
      " [ 146   43   26 2528  129    1   88    0   26    0]\n",
      " [  14    6  297  113 2386    0  262    0   22    0]\n",
      " [   6    0    1    5    2 2806    3  116   27   52]\n",
      " [ 486    6  309   90  277    0 1748    1   44    1]\n",
      " [   0    0    0    1    0  125    0 2691   10  117]\n",
      " [  25    3   33   14   19   19   66   12 2815    1]\n",
      " [   1    0    0    2    1   42    0  123    2 2842]]\n",
      "             precision    recall  f1-score   support\n",
      "\n",
      "          0       0.76      0.81      0.78      2963\n",
      "          1       0.97      0.97      0.97      2998\n",
      "          2       0.76      0.76      0.76      3008\n",
      "          3       0.85      0.85      0.85      2987\n",
      "          4       0.75      0.77      0.76      3100\n",
      "          5       0.94      0.93      0.93      3018\n",
      "          6       0.64      0.59      0.61      2962\n",
      "          7       0.91      0.91      0.91      2944\n",
      "          8       0.93      0.94      0.93      3007\n",
      "          9       0.94      0.94      0.94      3013\n",
      "\n",
      "avg / total       0.85      0.85      0.85     30000\n",
      "\n"
     ]
    },
    {
     "name": "stderr",
     "output_type": "stream",
     "text": [
      "Epochs: 1 / 1: 100%|██████████| 30000/30000 [1:13:17<00:00,  6.88it/s]\n"
     ]
    },
    {
     "name": "stdout",
     "output_type": "stream",
     "text": [
      "[[2355   20   52  126   13    5  341    0   51    0]\n",
      " [  15 2897   11   62    2    0    8    0    3    0]\n",
      " [  57    7 2267   35  369    3  249    0   21    0]\n",
      " [ 136   44   26 2534  131    1   90    0   25    0]\n",
      " [  13    7  291  113 2396    0  258    0   22    0]\n",
      " [   6    0    1    5    2 2807    3  115   27   52]\n",
      " [ 472    7  294   90  284    0 1769    1   44    1]\n",
      " [   0    0    0    1    0  126    0 2688   12  117]\n",
      " [  23    3   32   14   19   19   72   12 2812    1]\n",
      " [   1    0    0    2    1   42    0  123    2 2842]]\n",
      "             precision    recall  f1-score   support\n",
      "\n",
      "          0       0.77      0.79      0.78      2963\n",
      "          1       0.97      0.97      0.97      2998\n",
      "          2       0.76      0.75      0.76      3008\n",
      "          3       0.85      0.85      0.85      2987\n",
      "          4       0.74      0.77      0.76      3100\n",
      "          5       0.93      0.93      0.93      3018\n",
      "          6       0.63      0.60      0.62      2962\n",
      "          7       0.91      0.91      0.91      2944\n",
      "          8       0.93      0.94      0.93      3007\n",
      "          9       0.94      0.94      0.94      3013\n",
      "\n",
      "avg / total       0.85      0.85      0.85     30000\n",
      "\n"
     ]
    },
    {
     "name": "stderr",
     "output_type": "stream",
     "text": [
      "Epochs: 1 / 1: 100%|██████████| 30000/30000 [1:13:19<00:00,  6.84it/s]\n"
     ]
    },
    {
     "name": "stdout",
     "output_type": "stream",
     "text": [
      "[[2354   21   52  127   13    5  340    0   51    0]\n",
      " [  15 2897   12   62    2    0    8    0    2    0]\n",
      " [  57    7 2285   34  351    3  250    0   21    0]\n",
      " [ 136   46   26 2533  129    1   91    0   25    0]\n",
      " [  12    7  315  115 2365    0  264    0   22    0]\n",
      " [   6    0    1    5    2 2807    3  115   27   52]\n",
      " [ 475    7  309   91  276    0 1758    1   44    1]\n",
      " [   0    0    0    1    0  126    0 2689   12  116]\n",
      " [  22    3   32   14   20   19   72   12 2812    1]\n",
      " [   1    0    0    2    1   42    0  123    2 2842]]\n",
      "             precision    recall  f1-score   support\n",
      "\n",
      "          0       0.76      0.79      0.78      2963\n",
      "          1       0.97      0.97      0.97      2998\n",
      "          2       0.75      0.76      0.76      3008\n",
      "          3       0.85      0.85      0.85      2987\n",
      "          4       0.75      0.76      0.76      3100\n",
      "          5       0.93      0.93      0.93      3018\n",
      "          6       0.63      0.59      0.61      2962\n",
      "          7       0.91      0.91      0.91      2944\n",
      "          8       0.93      0.94      0.93      3007\n",
      "          9       0.94      0.94      0.94      3013\n",
      "\n",
      "avg / total       0.84      0.84      0.84     30000\n",
      "\n"
     ]
    }
   ],
   "source": [
    "#######################################\n",
    "#######                         #######\n",
    "#######     Neural Network      #######\n",
    "#######                         #######  \n",
    "#######################################\n",
    "\n",
    "neural_model = NNM.Model(data_train, target_train, activation=\"ReLU\", epochs=1, alpha=0.01, l_hidden=1, hidden_neurons=512, batch_size=1, use_softmax=True)\n",
    "for i in range(10):\n",
    "    neural_model.fit()\n",
    "\n",
    "    neural_y_pred = neural_model.Predict(data_val, target_val)\n",
    "    print(confusion_matrix(target_val, neural_y_pred))\n",
    "    print(classification_report(target_val, neural_y_pred))\n",
    "    neural_model.alpha /= 2"
   ]
  },
  {
   "cell_type": "code",
   "execution_count": null,
   "metadata": {},
   "outputs": [],
   "source": [
    "print(confusion_matrix(target_val, neural_y_pred))\n",
    "print(classification_report(target_val, neural_y_pred))"
   ]
  }
 ],
 "metadata": {
  "kernelspec": {
   "display_name": "Python 3",
   "language": "python",
   "name": "python3"
  },
  "language_info": {
   "codemirror_mode": {
    "name": "ipython",
    "version": 3
   },
   "file_extension": ".py",
   "mimetype": "text/x-python",
   "name": "python",
   "nbconvert_exporter": "python",
   "pygments_lexer": "ipython3",
   "version": "3.5.2"
  }
 },
 "nbformat": 4,
 "nbformat_minor": 2
}
