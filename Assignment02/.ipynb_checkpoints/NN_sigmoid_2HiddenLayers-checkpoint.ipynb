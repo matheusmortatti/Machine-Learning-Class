{
 "cells": [
  {
   "cell_type": "code",
   "execution_count": 1,
   "metadata": {},
   "outputs": [
    {
     "name": "stdout",
     "output_type": "stream",
     "text": [
      "Automatically created module for IPython interactive environment\n"
     ]
    }
   ],
   "source": [
    "print(__doc__)\n",
    "\n",
    "# Code source adapted from: Jaques Grobler\n",
    "# License: BSD 3 clause\n",
    "\n",
    "import random\n",
    "import matplotlib.pyplot as plt\n",
    "import numpy as np\n",
    "import pandas\n",
    "import os\n",
    "import csv\n",
    "import pprint\n",
    "import time\n",
    "import itertools\n",
    "import NeuralNetworkModel as NNM\n",
    "import LogisticRegressionModel as LRM\n",
    "import SoftmaxRegressionModel as SRM\n",
    "from sklearn.metrics import confusion_matrix\n",
    "from sklearn.metrics import classification_report\n",
    "\n",
    "pp = pprint.PrettyPrinter(indent=4)"
   ]
  },
  {
   "cell_type": "code",
   "execution_count": 2,
   "metadata": {},
   "outputs": [],
   "source": [
    "def plot_confusion_matrix(cm, classes,\n",
    "                          normalize=False,\n",
    "                          title='Confusion matrix',\n",
    "                          cmap=plt.cm.Blues):\n",
    "    \"\"\"\n",
    "    This function prints and plots the confusion matrix.\n",
    "    Normalization can be applied by setting `normalize=True`.\n",
    "    \"\"\"\n",
    "    if normalize:\n",
    "        cm = cm.astype('float') / cm.sum(axis=1)[:, np.newaxis]\n",
    "        print(\"Normalized confusion matrix\")\n",
    "    else:\n",
    "        print('Confusion matrix, without normalization')\n",
    "\n",
    "    print(cm)\n",
    "\n",
    "    plt.imshow(cm, interpolation='nearest', cmap=cmap)\n",
    "    plt.title(title)\n",
    "    plt.colorbar()\n",
    "    tick_marks = np.arange(len(classes))\n",
    "    plt.xticks(tick_marks, classes, rotation=45)\n",
    "    plt.yticks(tick_marks, classes)\n",
    "\n",
    "    fmt = '.2f' if normalize else 'd'\n",
    "    thresh = cm.max() / 2.\n",
    "    for i, j in itertools.product(range(cm.shape[0]), range(cm.shape[1])):\n",
    "        plt.text(j, i, format(cm[i, j], fmt),\n",
    "                 horizontalalignment=\"center\",\n",
    "                 color=\"white\" if cm[i, j] > thresh else \"black\")\n",
    "\n",
    "    plt.ylabel('True label')\n",
    "    plt.xlabel('Predicted label')\n",
    "    plt.tight_layout()"
   ]
  },
  {
   "cell_type": "code",
   "execution_count": 3,
   "metadata": {},
   "outputs": [],
   "source": [
    "# Read and treat training dataset\n",
    "dataset_train = pandas.read_csv('fashion-mnist-dataset/fashion-mnist_train.csv').values #np.genfromtxt('fashion-mnist-dataset/fashion-mnist_train.csv', delimiter=',')\n",
    "y_true = dataset_train[:,0]\n",
    "dataset_train = np.delete(dataset_train, 0, 1).T\n",
    "dataset_train = dataset_train / dataset_train.max()\n",
    "\n",
    "# Read and treat test dataset\n",
    "dataset_test = pandas.read_csv('fashion-mnist-dataset/fashion-mnist_test.csv').values\n",
    "target_test = dataset_test[:,0]\n",
    "dataset_test = np.delete(dataset_test, 0, 1).T\n",
    "dataset_test = dataset_test / dataset_test.max()\n",
    "\n",
    "# Separate train dataset in Train and Validation Data\n",
    "half = len(y_true)//2\n",
    "\n",
    "data_train = dataset_train[:,:half]\n",
    "target_train = y_true[:half]\n",
    "data_val = dataset_train[:,half:]\n",
    "target_val = y_true[half:]"
   ]
  },
  {
   "cell_type": "code",
   "execution_count": 4,
   "metadata": {},
   "outputs": [
    {
     "name": "stderr",
     "output_type": "stream",
     "text": [
      "Epochs: 1 / 10:   0%|          | 0/300 [00:00<?, ?it/s]/home/matheusmortatti/git/Machine-Learning-Class/Assignment02/NeuralNetworkModel.py:184: ComplexWarning: Casting complex values to real discards the imaginary part\n",
      "  self.D[k] = np.float64(np.multiply.outer(a.flatten(), err.flatten())).T\n",
      "/home/matheusmortatti/git/Machine-Learning-Class/Assignment02/NeuralNetworkModel.py:185: ComplexWarning: Casting complex values to real discards the imaginary part\n",
      "  self.bD[k] = np.float64(err)\n",
      "                                                                  \r"
     ]
    },
    {
     "name": "stdout",
     "output_type": "stream",
     "text": [
      "[[1629   90  112  321   33    8  688    0   82    0]\n",
      " [   1 2824   62   81   10    4   12    0    4    0]\n",
      " [   9   27 1762   24  349    7  755    1   74    0]\n",
      " [  50  145   26 2440  101    5  178    0   42    0]\n",
      " [   2   53  399  176 1648    3  790    1   28    0]\n",
      " [   5   22   15   12    3 2365   18  270  162  146]\n",
      " [ 214   48  354  190  204    9 1850    0   93    0]\n",
      " [   0    5    3    0    1  169    2 2485   45  234]\n",
      " [   4   17   36   40   19   38   77   17 2757    2]\n",
      " [   0    2    1    7    1   49    9  183   14 2747]]\n",
      "             precision    recall  f1-score   support\n",
      "\n",
      "          0       0.85      0.55      0.67      2963\n",
      "          1       0.87      0.94      0.91      2998\n",
      "          2       0.64      0.59      0.61      3008\n",
      "          3       0.74      0.82      0.78      2987\n",
      "          4       0.70      0.53      0.60      3100\n",
      "          5       0.89      0.78      0.83      3018\n",
      "          6       0.42      0.62      0.50      2962\n",
      "          7       0.84      0.84      0.84      2944\n",
      "          8       0.84      0.92      0.87      3007\n",
      "          9       0.88      0.91      0.89      3013\n",
      "\n",
      "avg / total       0.77      0.75      0.75     30000\n",
      "\n"
     ]
    },
    {
     "name": "stderr",
     "output_type": "stream",
     "text": [
      "                                                                  \r"
     ]
    },
    {
     "name": "stdout",
     "output_type": "stream",
     "text": [
      "[[2393    6   52  280   22   30  129    2   48    1]\n",
      " [  19 2771   55  129    9    6    5    1    3    0]\n",
      " [  81    6 1944   41  539   38  324    1   34    0]\n",
      " [ 135   30   28 2606  100   17   50    1   20    0]\n",
      " [  22    9  329  271 2182   10  257    0   19    1]\n",
      " [   4    0    1    5    0 2716    3  128   26  135]\n",
      " [ 684   12  371  214  419   26 1170    1   60    5]\n",
      " [   3    0    0    0    0  347    0 2272    3  319]\n",
      " [  38    1   29   47   13  144   44   33 2641   17]\n",
      " [   1    0    0    4    0   78    0   60    0 2870]]\n",
      "             precision    recall  f1-score   support\n",
      "\n",
      "          0       0.71      0.81      0.75      2963\n",
      "          1       0.98      0.92      0.95      2998\n",
      "          2       0.69      0.65      0.67      3008\n",
      "          3       0.72      0.87      0.79      2987\n",
      "          4       0.66      0.70      0.68      3100\n",
      "          5       0.80      0.90      0.84      3018\n",
      "          6       0.59      0.40      0.47      2962\n",
      "          7       0.91      0.77      0.83      2944\n",
      "          8       0.93      0.88      0.90      3007\n",
      "          9       0.86      0.95      0.90      3013\n",
      "\n",
      "avg / total       0.78      0.79      0.78     30000\n",
      "\n"
     ]
    },
    {
     "name": "stderr",
     "output_type": "stream",
     "text": [
      "                                                                  \r"
     ]
    },
    {
     "name": "stdout",
     "output_type": "stream",
     "text": [
      "[[1876  106   22  268    6   10  645    2   26    2]\n",
      " [   2 2886   17   65    3    2   23    0    0    0]\n",
      " [   9  129 1327   31  575   11  915    1   10    0]\n",
      " [  54  171   14 2528   46    2  163    0    9    0]\n",
      " [   1  115  114  258 2045    3  560    0    4    0]\n",
      " [   5    8    1    6    0 2612    9  226   16  135]\n",
      " [ 286   95  144  126  300    5 1975    1   29    1]\n",
      " [   2    2    0    0    0  182    0 2581    2  175]\n",
      " [  10   31   13   72   14  104  202   47 2505    9]\n",
      " [   0    1    0    5    1   54    5  171    2 2774]]\n",
      "             precision    recall  f1-score   support\n",
      "\n",
      "          0       0.84      0.63      0.72      2963\n",
      "          1       0.81      0.96      0.88      2998\n",
      "          2       0.80      0.44      0.57      3008\n",
      "          3       0.75      0.85      0.80      2987\n",
      "          4       0.68      0.66      0.67      3100\n",
      "          5       0.88      0.87      0.87      3018\n",
      "          6       0.44      0.67      0.53      2962\n",
      "          7       0.85      0.88      0.86      2944\n",
      "          8       0.96      0.83      0.89      3007\n",
      "          9       0.90      0.92      0.91      3013\n",
      "\n",
      "avg / total       0.79      0.77      0.77     30000\n",
      "\n"
     ]
    },
    {
     "name": "stderr",
     "output_type": "stream",
     "text": [
      "                                                                  \r"
     ]
    },
    {
     "name": "stdout",
     "output_type": "stream",
     "text": [
      "[[2696    8   15   93   32    1   94    1   21    2]\n",
      " [  48 2820   33   64   23    2    5    1    1    1]\n",
      " [ 168    4 1587   34  865    6  334    1    9    0]\n",
      " [ 386   48    3 2365  147    0   30    4    2    2]\n",
      " [  76    6  135  151 2584    3  141    0    4    0]\n",
      " [  15    1    1    8    6 2481    4  266   18  218]\n",
      " [ 989   12  199   61  679    2  992    1   26    1]\n",
      " [   6    0    0    1    1  104    0 2608    4  220]\n",
      " [ 145    3    6   60  100   49   75   40 2508   21]\n",
      " [   1    0    0    1    0   21    0  117    0 2873]]\n",
      "             precision    recall  f1-score   support\n",
      "\n",
      "          0       0.60      0.91      0.72      2963\n",
      "          1       0.97      0.94      0.96      2998\n",
      "          2       0.80      0.53      0.64      3008\n",
      "          3       0.83      0.79      0.81      2987\n",
      "          4       0.58      0.83      0.69      3100\n",
      "          5       0.93      0.82      0.87      3018\n",
      "          6       0.59      0.33      0.43      2962\n",
      "          7       0.86      0.89      0.87      2944\n",
      "          8       0.97      0.83      0.90      3007\n",
      "          9       0.86      0.95      0.90      3013\n",
      "\n",
      "avg / total       0.80      0.78      0.78     30000\n",
      "\n"
     ]
    },
    {
     "name": "stderr",
     "output_type": "stream",
     "text": [
      "                                                                  \r"
     ]
    },
    {
     "name": "stdout",
     "output_type": "stream",
     "text": [
      "[[1848   14  104  224    7    3  708    0   54    1]\n",
      " [   4 2812   59   85   12    2   21    0    3    0]\n",
      " [  10    5 2266   25  278    2  404    0   18    0]\n",
      " [  55   38   48 2528  120    1  171    1   25    0]\n",
      " [   2    7  460  165 1947    3  502    0   14    0]\n",
      " [   1    2    4    6    0 2649    6  161   62  127]\n",
      " [ 248   10  402   85  176    1 1978    0   61    1]\n",
      " [   1    0    0    0    1  179    1 2527   23  212]\n",
      " [   6    3   49   37    8   31   88   10 2773    2]\n",
      " [   0    0    1    4    0   57    3   98    4 2846]]\n",
      "             precision    recall  f1-score   support\n",
      "\n",
      "          0       0.85      0.62      0.72      2963\n",
      "          1       0.97      0.94      0.96      2998\n",
      "          2       0.67      0.75      0.71      3008\n",
      "          3       0.80      0.85      0.82      2987\n",
      "          4       0.76      0.63      0.69      3100\n",
      "          5       0.90      0.88      0.89      3018\n",
      "          6       0.51      0.67      0.58      2962\n",
      "          7       0.90      0.86      0.88      2944\n",
      "          8       0.91      0.92      0.92      3007\n",
      "          9       0.89      0.94      0.92      3013\n",
      "\n",
      "avg / total       0.82      0.81      0.81     30000\n",
      "\n"
     ]
    },
    {
     "name": "stderr",
     "output_type": "stream",
     "text": [
      "                                                                  \r"
     ]
    },
    {
     "name": "stdout",
     "output_type": "stream",
     "text": [
      "[[2002   12   68  389   17    6  426    2   40    1]\n",
      " [   3 2812   51  106   10    3    8    1    4    0]\n",
      " [  17    4 2167   76  404   11  309    0   20    0]\n",
      " [  46   30   21 2712  108    3   49    1   17    0]\n",
      " [   3    6  339  235 2226    4  274    0   13    0]\n",
      " [   1    1    2    7    0 2671    3  187   33  113]\n",
      " [ 324   10  358  233  288    4 1685    1   58    1]\n",
      " [   0    0    0    0    1  174    0 2605    9  155]\n",
      " [   8    3   35   47   17   41   70   19 2764    3]\n",
      " [   0    0    0    6    0   49    2  140    5 2811]]\n",
      "             precision    recall  f1-score   support\n",
      "\n",
      "          0       0.83      0.68      0.75      2963\n",
      "          1       0.98      0.94      0.96      2998\n",
      "          2       0.71      0.72      0.72      3008\n",
      "          3       0.71      0.91      0.80      2987\n",
      "          4       0.72      0.72      0.72      3100\n",
      "          5       0.90      0.89      0.89      3018\n",
      "          6       0.60      0.57      0.58      2962\n",
      "          7       0.88      0.88      0.88      2944\n",
      "          8       0.93      0.92      0.93      3007\n",
      "          9       0.91      0.93      0.92      3013\n",
      "\n",
      "avg / total       0.82      0.82      0.81     30000\n",
      "\n"
     ]
    },
    {
     "name": "stderr",
     "output_type": "stream",
     "text": [
      "                                                                  \r"
     ]
    },
    {
     "name": "stdout",
     "output_type": "stream",
     "text": [
      "[[2380    9   48   91   24    6  314    0   91    0]\n",
      " [  27 2826   49   60   12    3   13    2    6    0]\n",
      " [  47    2 2009   17  546   15  304    0   68    0]\n",
      " [ 179   46   21 2405  165    6  120    1   44    0]\n",
      " [  18    5  244  105 2434    5  253    0   36    0]\n",
      " [   1    1    1    3    0 2690    3  179   62   78]\n",
      " [ 554   11  319   57  349    3 1551    0  118    0]\n",
      " [   0    0    0    0    1  163    0 2616   26  138]\n",
      " [  21    1   19   20   11   25   35   12 2862    1]\n",
      " [   0    0    1    3    0   66    2  130   12 2799]]\n",
      "             precision    recall  f1-score   support\n",
      "\n",
      "          0       0.74      0.80      0.77      2963\n",
      "          1       0.97      0.94      0.96      2998\n",
      "          2       0.74      0.67      0.70      3008\n",
      "          3       0.87      0.81      0.84      2987\n",
      "          4       0.69      0.79      0.73      3100\n",
      "          5       0.90      0.89      0.90      3018\n",
      "          6       0.60      0.52      0.56      2962\n",
      "          7       0.89      0.89      0.89      2944\n",
      "          8       0.86      0.95      0.90      3007\n",
      "          9       0.93      0.93      0.93      3013\n",
      "\n",
      "avg / total       0.82      0.82      0.82     30000\n",
      "\n"
     ]
    },
    {
     "name": "stderr",
     "output_type": "stream",
     "text": [
      "                                                                  \r"
     ]
    },
    {
     "name": "stdout",
     "output_type": "stream",
     "text": [
      "[[2276   18   83  177   15    4  338    0   52    0]\n",
      " [   8 2838   53   72   10    2   12    0    3    0]\n",
      " [  28    6 2310   24  351    7  256    0   26    0]\n",
      " [ 108   72   44 2527  126    2   92    1   15    0]\n",
      " [   8   14  412  155 2218    5  272    0   16    0]\n",
      " [   4    3    2    4    0 2643    6  225   50   81]\n",
      " [ 451   19  433  118  272    3 1600    1   65    0]\n",
      " [   0    0    1    0    1  124    1 2704   11  102]\n",
      " [  17    4   46   33   14   25   44   18 2804    2]\n",
      " [   1    0    2    6    0   59    3  195    7 2740]]\n",
      "             precision    recall  f1-score   support\n",
      "\n",
      "          0       0.78      0.77      0.78      2963\n",
      "          1       0.95      0.95      0.95      2998\n",
      "          2       0.68      0.77      0.72      3008\n",
      "          3       0.81      0.85      0.83      2987\n",
      "          4       0.74      0.72      0.73      3100\n",
      "          5       0.92      0.88      0.90      3018\n",
      "          6       0.61      0.54      0.57      2962\n",
      "          7       0.86      0.92      0.89      2944\n",
      "          8       0.92      0.93      0.93      3007\n",
      "          9       0.94      0.91      0.92      3013\n",
      "\n",
      "avg / total       0.82      0.82      0.82     30000\n",
      "\n"
     ]
    },
    {
     "name": "stderr",
     "output_type": "stream",
     "text": [
      "Epochs: 4 / 10:  83%|████████▎ | 249/300 [13:54<03:49,  4.50s/it]"
     ]
    },
    {
     "ename": "KeyboardInterrupt",
     "evalue": "",
     "output_type": "error",
     "traceback": [
      "\u001b[0;31m---------------------------------------------------------------------------\u001b[0m",
      "\u001b[0;31mKeyboardInterrupt\u001b[0m                         Traceback (most recent call last)",
      "\u001b[0;32m<ipython-input-4-622f4f1bc8bf>\u001b[0m in \u001b[0;36m<module>\u001b[0;34m()\u001b[0m\n\u001b[1;32m      7\u001b[0m \u001b[0mneural_model_sigmoid_1\u001b[0m \u001b[0;34m=\u001b[0m \u001b[0mNNM\u001b[0m\u001b[0;34m.\u001b[0m\u001b[0mModel\u001b[0m\u001b[0;34m(\u001b[0m\u001b[0mdata_train\u001b[0m\u001b[0;34m,\u001b[0m \u001b[0mtarget_train\u001b[0m\u001b[0;34m,\u001b[0m \u001b[0mactivation\u001b[0m\u001b[0;34m=\u001b[0m\u001b[0;34m\"sigmoid\"\u001b[0m\u001b[0;34m,\u001b[0m \u001b[0mepochs\u001b[0m\u001b[0;34m=\u001b[0m\u001b[0;36m10\u001b[0m\u001b[0;34m,\u001b[0m \u001b[0malpha\u001b[0m\u001b[0;34m=\u001b[0m\u001b[0;36m0.01\u001b[0m\u001b[0;34m,\u001b[0m \u001b[0ml_hidden\u001b[0m\u001b[0;34m=\u001b[0m\u001b[0;36m2\u001b[0m\u001b[0;34m,\u001b[0m \u001b[0mhidden_neurons\u001b[0m\u001b[0;34m=\u001b[0m\u001b[0;36m512\u001b[0m\u001b[0;34m,\u001b[0m \u001b[0mbatch_size\u001b[0m\u001b[0;34m=\u001b[0m\u001b[0;36m100\u001b[0m\u001b[0;34m,\u001b[0m \u001b[0muse_softmax\u001b[0m\u001b[0;34m=\u001b[0m\u001b[0;32mFalse\u001b[0m\u001b[0;34m)\u001b[0m\u001b[0;34m\u001b[0m\u001b[0m\n\u001b[1;32m      8\u001b[0m \u001b[0;32mfor\u001b[0m \u001b[0mi\u001b[0m \u001b[0;32min\u001b[0m \u001b[0mrange\u001b[0m\u001b[0;34m(\u001b[0m\u001b[0;36m10\u001b[0m\u001b[0;34m)\u001b[0m\u001b[0;34m:\u001b[0m\u001b[0;34m\u001b[0m\u001b[0m\n\u001b[0;32m----> 9\u001b[0;31m     \u001b[0mneural_model_sigmoid_1\u001b[0m\u001b[0;34m.\u001b[0m\u001b[0mfit\u001b[0m\u001b[0;34m(\u001b[0m\u001b[0;34m)\u001b[0m\u001b[0;34m\u001b[0m\u001b[0m\n\u001b[0m\u001b[1;32m     10\u001b[0m \u001b[0;34m\u001b[0m\u001b[0m\n\u001b[1;32m     11\u001b[0m     \u001b[0mneural_y_pred\u001b[0m \u001b[0;34m=\u001b[0m \u001b[0mneural_model_sigmoid_1\u001b[0m\u001b[0;34m.\u001b[0m\u001b[0mPredict\u001b[0m\u001b[0;34m(\u001b[0m\u001b[0mdata_val\u001b[0m\u001b[0;34m,\u001b[0m \u001b[0mtarget_val\u001b[0m\u001b[0;34m)\u001b[0m\u001b[0;34m\u001b[0m\u001b[0m\n",
      "\u001b[0;32m~/git/Machine-Learning-Class/Assignment02/NeuralNetworkModel.py\u001b[0m in \u001b[0;36mfit\u001b[0;34m(self)\u001b[0m\n\u001b[1;32m    151\u001b[0m \u001b[0;34m\u001b[0m\u001b[0m\n\u001b[1;32m    152\u001b[0m                     \u001b[0moutput\u001b[0m \u001b[0;34m=\u001b[0m \u001b[0mself\u001b[0m\u001b[0;34m.\u001b[0m\u001b[0mFeedForward\u001b[0m\u001b[0;34m(\u001b[0m\u001b[0msample\u001b[0m\u001b[0;34m)\u001b[0m\u001b[0;34m\u001b[0m\u001b[0m\n\u001b[0;32m--> 153\u001b[0;31m                     \u001b[0mself\u001b[0m\u001b[0;34m.\u001b[0m\u001b[0mBackPropagation\u001b[0m\u001b[0;34m(\u001b[0m\u001b[0moutput\u001b[0m\u001b[0;34m,\u001b[0m \u001b[0mstarget\u001b[0m\u001b[0;34m)\u001b[0m\u001b[0;34m\u001b[0m\u001b[0m\n\u001b[0m\u001b[1;32m    154\u001b[0m \u001b[0;34m\u001b[0m\u001b[0m\n\u001b[1;32m    155\u001b[0m                 \u001b[0;31m# Take mean value\u001b[0m\u001b[0;34m\u001b[0m\u001b[0;34m\u001b[0m\u001b[0m\n",
      "\u001b[0;32m~/git/Machine-Learning-Class/Assignment02/NeuralNetworkModel.py\u001b[0m in \u001b[0;36mFeedForward\u001b[0;34m(self, input)\u001b[0m\n\u001b[1;32m    100\u001b[0m \u001b[0;34m\u001b[0m\u001b[0m\n\u001b[1;32m    101\u001b[0m         \u001b[0;32mfor\u001b[0m \u001b[0mi\u001b[0m \u001b[0;32min\u001b[0m \u001b[0mrange\u001b[0m\u001b[0;34m(\u001b[0m\u001b[0;36m1\u001b[0m\u001b[0;34m,\u001b[0m \u001b[0mlen\u001b[0m\u001b[0;34m(\u001b[0m\u001b[0mself\u001b[0m\u001b[0;34m.\u001b[0m\u001b[0mlayers\u001b[0m\u001b[0;34m)\u001b[0m\u001b[0;34m)\u001b[0m\u001b[0;34m:\u001b[0m\u001b[0;34m\u001b[0m\u001b[0m\n\u001b[0;32m--> 102\u001b[0;31m             \u001b[0mself\u001b[0m\u001b[0;34m.\u001b[0m\u001b[0mlayers\u001b[0m\u001b[0;34m[\u001b[0m\u001b[0mi\u001b[0m\u001b[0;34m]\u001b[0m\u001b[0;34m[\u001b[0m\u001b[0;34m\"z\"\u001b[0m\u001b[0;34m]\u001b[0m \u001b[0;34m=\u001b[0m \u001b[0mnp\u001b[0m\u001b[0;34m.\u001b[0m\u001b[0madd\u001b[0m\u001b[0;34m(\u001b[0m\u001b[0mnp\u001b[0m\u001b[0;34m.\u001b[0m\u001b[0mmatmul\u001b[0m\u001b[0;34m(\u001b[0m\u001b[0mself\u001b[0m\u001b[0;34m.\u001b[0m\u001b[0mlayers\u001b[0m\u001b[0;34m[\u001b[0m\u001b[0mi\u001b[0m\u001b[0;34m-\u001b[0m\u001b[0;36m1\u001b[0m\u001b[0;34m]\u001b[0m\u001b[0;34m[\u001b[0m\u001b[0;34m\"weight\"\u001b[0m\u001b[0;34m]\u001b[0m\u001b[0;34m,\u001b[0m \u001b[0mself\u001b[0m\u001b[0;34m.\u001b[0m\u001b[0mlayers\u001b[0m\u001b[0;34m[\u001b[0m\u001b[0mi\u001b[0m\u001b[0;34m-\u001b[0m\u001b[0;36m1\u001b[0m\u001b[0;34m]\u001b[0m\u001b[0;34m[\u001b[0m\u001b[0;34m\"a\"\u001b[0m\u001b[0;34m]\u001b[0m\u001b[0;34m)\u001b[0m\u001b[0;34m,\u001b[0m \u001b[0mself\u001b[0m\u001b[0;34m.\u001b[0m\u001b[0mlayers\u001b[0m\u001b[0;34m[\u001b[0m\u001b[0mi\u001b[0m\u001b[0;34m-\u001b[0m\u001b[0;36m1\u001b[0m\u001b[0;34m]\u001b[0m\u001b[0;34m[\u001b[0m\u001b[0;34m\"bias\"\u001b[0m\u001b[0;34m]\u001b[0m\u001b[0;34m)\u001b[0m\u001b[0;34m\u001b[0m\u001b[0m\n\u001b[0m\u001b[1;32m    103\u001b[0m             \u001b[0mself\u001b[0m\u001b[0;34m.\u001b[0m\u001b[0mlayers\u001b[0m\u001b[0;34m[\u001b[0m\u001b[0mi\u001b[0m\u001b[0;34m]\u001b[0m\u001b[0;34m[\u001b[0m\u001b[0;34m\"a\"\u001b[0m\u001b[0;34m]\u001b[0m \u001b[0;34m=\u001b[0m \u001b[0mself\u001b[0m\u001b[0;34m.\u001b[0m\u001b[0mactivation\u001b[0m\u001b[0;34m(\u001b[0m\u001b[0mself\u001b[0m\u001b[0;34m.\u001b[0m\u001b[0mlayers\u001b[0m\u001b[0;34m[\u001b[0m\u001b[0mi\u001b[0m\u001b[0;34m]\u001b[0m\u001b[0;34m[\u001b[0m\u001b[0;34m\"z\"\u001b[0m\u001b[0;34m]\u001b[0m\u001b[0;34m)\u001b[0m\u001b[0;34m\u001b[0m\u001b[0m\n\u001b[1;32m    104\u001b[0m             \u001b[0;31m# print(self.layers[i][\"a\"])\u001b[0m\u001b[0;34m\u001b[0m\u001b[0;34m\u001b[0m\u001b[0m\n",
      "\u001b[0;31mKeyboardInterrupt\u001b[0m: "
     ]
    }
   ],
   "source": [
    "#######################################\n",
    "#######                         #######\n",
    "#######     Neural Network      #######\n",
    "#######                         #######  \n",
    "#######################################\n",
    "\n",
    "neural_model_sigmoid_1 = NNM.Model(data_train, target_train, activation=\"sigmoid\", epochs=1, alpha=0.01, l_hidden=2, hidden_neurons=512, batch_size=1, use_softmax=False)\n",
    "decay = 0.5\n",
    "for i in range(10):\n",
    "    neural_model_sigmoid_1.fit()\n",
    "\n",
    "    neural_y_pred = neural_model_sigmoid_1.Predict(data_val, target_val)\n",
    "    print(confusion_matrix(target_val, neural_y_pred))\n",
    "    print(classification_report(target_val, neural_y_pred))\n",
    "    \n",
    "    neural_model_sigmoid_1.alpha *= 1/(1 + decay * (i+1))"
   ]
  },
  {
   "cell_type": "code",
   "execution_count": null,
   "metadata": {},
   "outputs": [],
   "source": [
    "## Result with Sigmoid, 512 hidden neurons and 1 hidden layer VALIDATION\n",
    "neural_y_pred_val = neural_model_sigmoid_1.Predict(data_val, target_val)\n",
    "neural_conf_matrix_val = confusion_matrix(target_val, neural_y_pred_val)\n",
    "neural_class_report_val = classification_report(target_val, neural_y_pred_val)\n",
    "print(neural_conf_matrix_val)\n",
    "print(neural_class_report_val)"
   ]
  },
  {
   "cell_type": "code",
   "execution_count": null,
   "metadata": {},
   "outputs": [],
   "source": [
    "plt.figure()\n",
    "plot_confusion_matrix(neural_conf_matrix_val, np.arange(10))\n",
    "plt.savefig(\"cm_sigmoid_2h_val.png\")\n",
    "plt.show()"
   ]
  },
  {
   "cell_type": "code",
   "execution_count": null,
   "metadata": {},
   "outputs": [],
   "source": [
    "## Result with sigmoid, 512 hidden neurons and 1 hidden layer TEST\n",
    "neural_y_pred = neural_model_sigmoid_1.Predict(dataset_test, target_test)\n",
    "neural_conf_matrix = confusion_matrix(target_test, neural_y_pred)\n",
    "neural_class_report = classification_report(target_test, neural_y_pred)\n",
    "print(neural_conf_matrix)\n",
    "print(neural_class_report)"
   ]
  },
  {
   "cell_type": "code",
   "execution_count": null,
   "metadata": {},
   "outputs": [],
   "source": [
    "plt.figure()\n",
    "plot_confusion_matrix(neural_conf_matrix, np.arange(10))\n",
    "plt.savefig(\"cm_sigmoid_2h.png\")\n",
    "plt.show()"
   ]
  },
  {
   "cell_type": "code",
   "execution_count": null,
   "metadata": {},
   "outputs": [],
   "source": []
  }
 ],
 "metadata": {
  "kernelspec": {
   "display_name": "Python 3",
   "language": "python",
   "name": "python3"
  },
  "language_info": {
   "codemirror_mode": {
    "name": "ipython",
    "version": 3
   },
   "file_extension": ".py",
   "mimetype": "text/x-python",
   "name": "python",
   "nbconvert_exporter": "python",
   "pygments_lexer": "ipython3",
   "version": "3.5.2"
  }
 },
 "nbformat": 4,
 "nbformat_minor": 2
}
